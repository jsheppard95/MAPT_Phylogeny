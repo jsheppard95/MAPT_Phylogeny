{
 "cells": [
  {
   "cell_type": "code",
   "execution_count": 14,
   "metadata": {},
   "outputs": [],
   "source": [
    "import pypdb\n",
    "import json"
   ]
  },
  {
   "cell_type": "code",
   "execution_count": 20,
   "metadata": {},
   "outputs": [
    {
     "name": "stdout",
     "output_type": "stream",
     "text": [
      "['6TJO', '6TJX', '7NRQ', '6NWQ', '6NWP', '7NRX', '7NRT', '7P66', '7NRS', '7P65', '7NRV', '7P68', '7P67', '7P6B', '6HRF', '7P6A', '7P6D', '7P6C', '6HRE', '7P6E', '7MKF', '7MKH', '7MKG', '7PQC', '7PQP', '6CVN', '6CVJ', '6VH7', '6VHA', '6GX5', '6VHL', '6VI3', '5O3O', '5O3L', '5O3T', '6QJH', '6QJP', '6QJM', '2MZ7', '5N5A', '5MP3']\n"
     ]
    }
   ],
   "source": [
    "q = pypdb.Query(\"MADERKDEAKAPHWTSAPLTEASAHSHPPEIKDQGGAGEGLVRSANGFPYREDEEGAFGEHGSQGTYSNTKENGINGELTSADRETAEEVSARIVQVVTAEAVAVLKGEQEKEAQHKDQTAALPLAAEETANLPPSPPPSPASEQTVTVEEDLLTASKMEFHDQQELTPSTAEPSDQKEKESEKQSKPGEDLKHAALVSQPETTKTYPDKKDMQGTEEEKAPLALFGHTLVASLEDMKQKTEPSLVVPGIDLPKEPPTPKEQKDWFIEMPTEAKKDEWGLVAPISPGPLTPMREKDVFDDIPKWEGKQFDSPMPSPFQGGSFTLPLDVMKNEIVTETSPFAPAFLQPDDKKSLQQTSGPATAKDSFKIEEPHEAKPDKMAEAPPSEAMTLPKDAHIPVVEEHVMGKVLEEEKEAINQETVQQRDTFTPSGQEPILTEKETELKLEEKTTISDKEAVPKESKPPKPADEEIGIIQTSTEHTFSEQKDQEPTTDMLKQDSFPVSLEQAVTDSAMTSKTLEKAMTEPSALIEKSSIQELFEMRVDDKDKIEGVGAATSAELDMPFYEDKSGMSKYFETSALKEEATKSIEPGSDYYELSDTRESVHESIDTMSPMHKNGDKEFQTGKESQPSPPAQEAGYSTLAQSYPSDLPEEPSSPQERMFTIDPKVYGEKRDLHSKNKDDLTLSRSLGLGGRSAIEQRSMSINLPMSCLDSIALGFNFGRGHDLSPLASDILTNTSGSMDEGDDYLPATTPALEKAPCFPVESKEEEQIEKVKATGEESTQAEISCESPFLAKDFYKNGTVMAPDLPEMLDLAGTRSRLASVSADAEVARRKSVPSETVVEDSRTGLPPVTDENHVIVKTDSQLEDLGYCVFNKYTVPLPSPVQDSENLSGESGTFYEGTDDKVRRDLATDLSLIEVKLAAAGRVKDEFSVDKEASAHISGDKSGLSKEFDQEKKANDRLDTVLEKSEEHADSKEHAKKTEEAGDEIETFGLGVTYEQALAKDLSIPTDASSEKAEKGLSSVPEIAEVEPSKKVEQGLDFAVQGQLDVKISDFGQMASGLNIDDRRATELKLEATQDMTPSSKAPQEADAFMGVESGHMKEGTKVSETEVKEKVAKPDLVHQEAVDKEESYESSGEHESLTMESLKADEGKKETSPESSLIQDEIAVKLSVEIPCPPAVSEADLATDERADVQMEFIQGPKEESKETPDISITPSDVAEPLHETIVSEPAEIQSEEEEIEAQGEYDKLLFRSDTLQITDLGVSGAREEFVETCPSEHKGVIESVVTIEDDFITVVQTTTDEGESGSHSVRFAALEQPEVERRPSPHDEEEFEVEEAAEAQAEPKDGSPEAPASPEREEVALSEYKTETYDDYKDETTIDDSIMDADSLWVDTQDDDRSIMTEQLETIPKEEKAEKEARRSSLEKHRKEKPFKTGRGRISTPERKVAKKEPSTVSRDEVRRKKAVYKKAELAKKTEVQAHSPSRKFILKPAIKYTRPTHLSCVKRKTTAAGGESALAPSVFKQAKDKVSNSTLSKIPALQGSTKSPRYSSACPSTTKRATFSDSLLIQPTSAGSTDRLPYSKSGNKDGVTKSPEKRSSLPRPSSILPPRRGVSGDRDENSFSLNSSISSSARRTTRSEPIRRAGKSGTSTPTTPGSTAITPGTPPSYSSRTPGTPGTPSYPRTPHTPGTPKSAILVPSEKKVAIIRTPPKSPATPKQLRLINQPLPDLKNVKSKIGSTDNIKYQPKGGQVRILNKKIDFSKVQSRCGSKDNIKHSAGGGNVQIVTKKIDLSHVTSKCGSLKNIRHRPGGGRVKIESVKLDFKEKAQAKVGSLDNAHHVPGGGNVKIDSQKLNFREHAKARVDHGAEIITQSPGRSSVASPRRLSNVSSSGSINLLESPQLATLAEDVTAALAKQGL\",\n",
    "                query_type=\"sequence\",\n",
    "                return_type=\"entry\")\n",
    "print(q.search())"
   ]
  },
  {
   "cell_type": "code",
   "execution_count": 10,
   "metadata": {},
   "outputs": [
    {
     "data": {
      "text/plain": [
       "dict_keys(['audit_author', 'citation', 'em3d_fitting', 'em3d_reconstruction', 'em_ctf_correction', 'em_entity_assembly', 'em_experiment', 'em_helical_entity', 'em_image_recording', 'em_imaging', 'em_particle_selection', 'em_software', 'em_specimen', 'em_vitrification', 'entry', 'exptl', 'pdbx_audit_revision_category', 'pdbx_audit_revision_details', 'pdbx_audit_revision_group', 'pdbx_audit_revision_history', 'pdbx_audit_revision_item', 'pdbx_audit_support', 'pdbx_database_related', 'pdbx_database_status', 'pdbx_vrpt_summary', 'rcsb_accession_info', 'rcsb_entry_container_identifiers', 'rcsb_entry_info', 'rcsb_primary_citation', 'struct', 'struct_keywords', 'rcsb_id', 'rcsb_external_references'])"
      ]
     },
     "execution_count": 10,
     "metadata": {},
     "output_type": "execute_result"
    }
   ],
   "source": [
    "all_info = pypdb.get_info(\"6TJO\")\n",
    "all_info.keys()"
   ]
  },
  {
   "cell_type": "code",
   "execution_count": 21,
   "metadata": {},
   "outputs": [
    {
     "data": {
      "text/plain": [
       "41"
      ]
     },
     "execution_count": 21,
     "metadata": {},
     "output_type": "execute_result"
    }
   ],
   "source": [
    "len(q.search())"
   ]
  },
  {
   "cell_type": "code",
   "execution_count": 22,
   "metadata": {},
   "outputs": [],
   "source": [
    "json_data = json.dumps(q.search())\n",
    "with open(\"pypdb.json\", \"w\") as json_file:\n",
    "    json_file.write(json_data)"
   ]
  },
  {
   "cell_type": "code",
   "execution_count": null,
   "metadata": {},
   "outputs": [],
   "source": []
  }
 ],
 "metadata": {
  "kernelspec": {
   "display_name": "PythonData",
   "language": "python",
   "name": "pythondata"
  },
  "language_info": {
   "codemirror_mode": {
    "name": "ipython",
    "version": 3
   },
   "file_extension": ".py",
   "mimetype": "text/x-python",
   "name": "python",
   "nbconvert_exporter": "python",
   "pygments_lexer": "ipython3",
   "version": "3.7.6"
  }
 },
 "nbformat": 4,
 "nbformat_minor": 4
}
