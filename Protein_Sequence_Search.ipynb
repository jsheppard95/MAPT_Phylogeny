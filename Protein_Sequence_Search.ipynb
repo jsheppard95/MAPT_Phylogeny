{
 "cells": [
  {
   "cell_type": "code",
   "execution_count": 1,
   "metadata": {},
   "outputs": [],
   "source": [
    "import requests\n",
    "import os\n",
    "import time\n",
    "import numpy as np\n",
    "import pandas as pd\n",
    "from helper_functions import api_call, show_NaN_rows, get_gids_sequences, get_sequence_and_count"
   ]
  },
  {
   "cell_type": "code",
   "execution_count": 2,
   "metadata": {},
   "outputs": [
    {
     "data": {
      "text/html": [
       "<div>\n",
       "<style scoped>\n",
       "    .dataframe tbody tr th:only-of-type {\n",
       "        vertical-align: middle;\n",
       "    }\n",
       "\n",
       "    .dataframe tbody tr th {\n",
       "        vertical-align: top;\n",
       "    }\n",
       "\n",
       "    .dataframe thead th {\n",
       "        text-align: right;\n",
       "    }\n",
       "</style>\n",
       "<table border=\"1\" class=\"dataframe\">\n",
       "  <thead>\n",
       "    <tr style=\"text-align: right;\">\n",
       "      <th></th>\n",
       "      <th>accession_num</th>\n",
       "      <th>aa_cnt</th>\n",
       "    </tr>\n",
       "  </thead>\n",
       "  <tbody>\n",
       "    <tr>\n",
       "      <th>0</th>\n",
       "      <td>NP_001116538</td>\n",
       "      <td>776</td>\n",
       "    </tr>\n",
       "    <tr>\n",
       "      <th>1</th>\n",
       "      <td>Q5YCV9</td>\n",
       "      <td>776</td>\n",
       "    </tr>\n",
       "    <tr>\n",
       "      <th>2</th>\n",
       "      <td>XP_012352933</td>\n",
       "      <td>732</td>\n",
       "    </tr>\n",
       "    <tr>\n",
       "      <th>3</th>\n",
       "      <td>XP_002800600</td>\n",
       "      <td>776</td>\n",
       "    </tr>\n",
       "    <tr>\n",
       "      <th>4</th>\n",
       "      <td>XP_003913279</td>\n",
       "      <td>776</td>\n",
       "    </tr>\n",
       "    <tr>\n",
       "      <th>...</th>\n",
       "      <td>...</td>\n",
       "      <td>...</td>\n",
       "    </tr>\n",
       "    <tr>\n",
       "      <th>83</th>\n",
       "      <td>XP_008116759</td>\n",
       "      <td>1176</td>\n",
       "    </tr>\n",
       "    <tr>\n",
       "      <th>84</th>\n",
       "      <td>NP_001119982</td>\n",
       "      <td>1164</td>\n",
       "    </tr>\n",
       "    <tr>\n",
       "      <th>85</th>\n",
       "      <td>XP_006634278</td>\n",
       "      <td>629</td>\n",
       "    </tr>\n",
       "    <tr>\n",
       "      <th>86</th>\n",
       "      <td>XP_006003167</td>\n",
       "      <td>1753</td>\n",
       "    </tr>\n",
       "    <tr>\n",
       "      <th>87</th>\n",
       "      <td>ctg92199</td>\n",
       "      <td>534</td>\n",
       "    </tr>\n",
       "  </tbody>\n",
       "</table>\n",
       "<p>88 rows × 2 columns</p>\n",
       "</div>"
      ],
      "text/plain": [
       "   accession_num  aa_cnt\n",
       "0   NP_001116538     776\n",
       "1         Q5YCV9     776\n",
       "2   XP_012352933     732\n",
       "3   XP_002800600     776\n",
       "4   XP_003913279     776\n",
       "..           ...     ...\n",
       "83  XP_008116759    1176\n",
       "84  NP_001119982    1164\n",
       "85  XP_006634278     629\n",
       "86  XP_006003167    1753\n",
       "87      ctg92199     534\n",
       "\n",
       "[88 rows x 2 columns]"
      ]
     },
     "execution_count": 2,
     "metadata": {},
     "output_type": "execute_result"
    }
   ],
   "source": [
    "# Read protein accession numbers from proteins.txt\n",
    "infile = os.path.join(\"Resources\", \"proteins.csv\")\n",
    "protein_df = pd.read_csv(infile)\n",
    "protein_df"
   ]
  },
  {
   "cell_type": "code",
   "execution_count": 3,
   "metadata": {},
   "outputs": [
    {
     "name": "stdout",
     "output_type": "stream",
     "text": [
      "Protein 88 of 88\r"
     ]
    }
   ],
   "source": [
    "protein_df = get_gids_sequences(protein_df)"
   ]
  },
  {
   "cell_type": "code",
   "execution_count": 6,
   "metadata": {},
   "outputs": [
    {
     "data": {
      "text/html": [
       "<div>\n",
       "<style scoped>\n",
       "    .dataframe tbody tr th:only-of-type {\n",
       "        vertical-align: middle;\n",
       "    }\n",
       "\n",
       "    .dataframe tbody tr th {\n",
       "        vertical-align: top;\n",
       "    }\n",
       "\n",
       "    .dataframe thead th {\n",
       "        text-align: right;\n",
       "    }\n",
       "</style>\n",
       "<table border=\"1\" class=\"dataframe\">\n",
       "  <thead>\n",
       "    <tr style=\"text-align: right;\">\n",
       "      <th></th>\n",
       "      <th>accession_num</th>\n",
       "      <th>aa_cnt</th>\n",
       "      <th>DB</th>\n",
       "      <th>GID</th>\n",
       "    </tr>\n",
       "  </thead>\n",
       "  <tbody>\n",
       "    <tr>\n",
       "      <th>32</th>\n",
       "      <td>GL477576</td>\n",
       "      <td>798</td>\n",
       "      <td>nuccore</td>\n",
       "      <td>308150460</td>\n",
       "    </tr>\n",
       "    <tr>\n",
       "      <th>33</th>\n",
       "      <td>CT004140</td>\n",
       "      <td>243</td>\n",
       "      <td>nuccore</td>\n",
       "      <td>68298023</td>\n",
       "    </tr>\n",
       "    <tr>\n",
       "      <th>58</th>\n",
       "      <td>BAHO01035973</td>\n",
       "      <td>2118</td>\n",
       "      <td>nuccore</td>\n",
       "      <td>405900247</td>\n",
       "    </tr>\n",
       "    <tr>\n",
       "      <th>62</th>\n",
       "      <td>KE993814</td>\n",
       "      <td>196</td>\n",
       "      <td>nuccore</td>\n",
       "      <td>543413231</td>\n",
       "    </tr>\n",
       "    <tr>\n",
       "      <th>67</th>\n",
       "      <td>NW_003943621</td>\n",
       "      <td>1122</td>\n",
       "      <td>nuccore</td>\n",
       "      <td>395725070</td>\n",
       "    </tr>\n",
       "  </tbody>\n",
       "</table>\n",
       "</div>"
      ],
      "text/plain": [
       "   accession_num  aa_cnt       DB        GID\n",
       "32      GL477576     798  nuccore  308150460\n",
       "33      CT004140     243  nuccore   68298023\n",
       "58  BAHO01035973    2118  nuccore  405900247\n",
       "62      KE993814     196  nuccore  543413231\n",
       "67  NW_003943621    1122  nuccore  395725070"
      ]
     },
     "execution_count": 6,
     "metadata": {},
     "output_type": "execute_result"
    }
   ],
   "source": [
    "protein_df[protein_df[\"DB\"] == \"nuccore\"]"
   ]
  },
  {
   "cell_type": "code",
   "execution_count": null,
   "metadata": {},
   "outputs": [],
   "source": [
    "# Perform API Call to NCBI to get GIDs for each Protein\n",
    "gids = []\n",
    "err_proteins = []  # list to hold proteins not found\n",
    "protein_proteins = []  # list to hold proteins found in protein db\n",
    "nuccore_proteins = []  # list to hold proteins found in nuccore db\n",
    "\n",
    "# Be nice: no more than 3 calls per second -> every three calls wait 1 second\n",
    "for i in range(len(protein_df)):\n",
    "    print(\"Protein %s of %s\" % (i + 1, len(protein_df)), end=\"\\r\")\n",
    "\n",
    "    if (i % 3) == 0:\n",
    "        time.sleep(1)\n",
    "\n",
    "    # Search protein db\n",
    "    protein = protein_df.iloc[i][\"accession_num\"]\n",
    "    result = api_call(\"protein\", protein)\n",
    "    try:\n",
    "        gid = result[\"eSummaryResult\"][\"DocSum\"][\"Id\"]\n",
    "        protein_proteins.append(protein)\n",
    "        gids.append(gid)\n",
    "    except KeyError:\n",
    "        # If error, search nuccore\n",
    "        try:\n",
    "            result = api_call(\"nuccore\", protein)\n",
    "            gid = result[\"eSummaryResult\"][\"DocSum\"][\"Id\"]\n",
    "            nuccore_proteins.append(protein)\n",
    "            gids.append(gid)\n",
    "        # If still error, add NaN\n",
    "        except KeyError:\n",
    "            err_proteins.append(protein)\n",
    "            gids.append(np.NaN)\n",
    "gids[0:5]"
   ]
  },
  {
   "cell_type": "code",
   "execution_count": null,
   "metadata": {},
   "outputs": [],
   "source": [
    "print(\"Total Number of Proteins in Input File:\", len(protein_df))\n",
    "print(\"Number of Proteins From db=protein:\", len(protein_proteins))\n",
    "print (\"Proteins From db=nuccore (%s):\" % len(nuccore_proteins))\n",
    "for protein in nuccore_proteins:\n",
    "    print(protein)\n",
    "print(\"\\n\")\n",
    "print(\"Proteins Not Found (%s):\" % len(err_proteins))\n",
    "for protein in err_proteins:\n",
    "    print(protein)"
   ]
  },
  {
   "cell_type": "code",
   "execution_count": null,
   "metadata": {},
   "outputs": [],
   "source": [
    "# Add GIDs to proteins_df\n",
    "protein_df[\"GID\"] = gids\n",
    "protein_df.head()"
   ]
  },
  {
   "cell_type": "code",
   "execution_count": null,
   "metadata": {},
   "outputs": [],
   "source": [
    "# Confirm missing GIDs consistent with API result:\n",
    "show_NaN_rows(protein_df)"
   ]
  },
  {
   "cell_type": "code",
   "execution_count": null,
   "metadata": {},
   "outputs": [],
   "source": [
    "# Need to output sequences to FASTA (.faa) file for alignment before bassing to RAxML to generate\n",
    "# Phylogenetic tree\n",
    "# FASTA Format:\n",
    "#>SEQUENCE_1\n",
    "#...\n",
    "#>SEQUENCE_2\n",
    "#...\n",
    "#>..."
   ]
  },
  {
   "cell_type": "code",
   "execution_count": null,
   "metadata": {},
   "outputs": [],
   "source": [
    "# Get Sequences from GID numbers and write to FASTA file:\n",
    "cnt = 0\n",
    "seqs = []\n",
    "# Write sequence to FASTA file\n",
    "for gid in gids:\n",
    "    print(\"Protein %s of %s\" % (cnt + 1, len(protein_df)), end=\"\\r\")\n",
    "    if (cnt % 3) == 0:\n",
    "        time.sleep(1)\n",
    "    if gid is not np.NaN:\n",
    "        gid_url = \"https://eutils.ncbi.nlm.nih.gov/entrez/eutils/efetch.fcgi?db=sequences&id=\" + gid + \"&rettype=fasta&retmode=text\"\n",
    "        gid_resp = requests.get(gid_url)\n",
    "        seq_fasta = gid_resp.content.decode(\"utf-8\")\n",
    "        seqs.append(seq_fasta)\n",
    "\n",
    "    else:\n",
    "        seqs.append(np.NaN)\n",
    "    cnt += 1"
   ]
  },
  {
   "cell_type": "code",
   "execution_count": null,
   "metadata": {},
   "outputs": [],
   "source": [
    "# Add sequences to protein_df\n",
    "protein_df[\"Sequence\"] = seqs\n",
    "protein_df.head()"
   ]
  },
  {
   "cell_type": "code",
   "execution_count": null,
   "metadata": {},
   "outputs": [],
   "source": [
    "# Check a sequence\n",
    "print(get_sequence_and_count(protein_df, \"NP_001116538\"))  # Homo sapiens (human tau), correct count"
   ]
  },
  {
   "cell_type": "code",
   "execution_count": null,
   "metadata": {},
   "outputs": [],
   "source": [
    "# Confirm consistent NaN's\n",
    "show_NaN_rows(protein_df)"
   ]
  },
  {
   "cell_type": "code",
   "execution_count": null,
   "metadata": {},
   "outputs": [],
   "source": [
    "# Example nuccore sequence\n",
    "sea_lamprey = nuccore_proteins[0]  # GL477576\n",
    "print(nuccore_proteins)\n",
    "get_sequence_and_count(protein_df, sea_lamprey)\n",
    "# nucleotide sequence (210407 nucleotides) for Petromyzon marinus (correct)\n",
    "# Should have 846aa"
   ]
  },
  {
   "cell_type": "code",
   "execution_count": null,
   "metadata": {},
   "outputs": [],
   "source": [
    "hagfish = nuccore_proteins[1]  # CT004140\n",
    "print(nuccore_proteins)\n",
    "get_sequence_and_count(protein_df, hagfish)\n",
    "# mRNA Sequence (837 nucleotides) for homo sapiens\n",
    "# should be 243aa japanese inshore hagfish"
   ]
  },
  {
   "cell_type": "code",
   "execution_count": null,
   "metadata": {},
   "outputs": [],
   "source": [
    "coelacanth = nuccore_proteins[2]  # BAHO01035973\n",
    "print(nuccore_proteins)\n",
    "get_sequence_and_count(protein_df, coelacanth)\n",
    "# nucleotide sequence (15919 nucleotides) for Latimeria chalumnae (correct)\n",
    "# Should have 2118 aa"
   ]
  },
  {
   "cell_type": "code",
   "execution_count": null,
   "metadata": {},
   "outputs": [],
   "source": [
    "arctic_lamprey = nuccore_proteins[3]  # KE993814\n",
    "print(nuccore_proteins)\n",
    "get_sequence_and_count(protein_df, arctic_lamprey)\n",
    "# nucleotide sequence (1564372 nucleotides) for Lethenteron camtschaticum (correct)\n",
    "# Should have 196aa"
   ]
  },
  {
   "cell_type": "code",
   "execution_count": null,
   "metadata": {},
   "outputs": [],
   "source": [
    "squirrel_monkey = nuccore_proteins[4]  # NW_003943621\n",
    "print(nuccore_proteins)\n",
    "cnt = get_sequence_and_count(protein_df, squirrel_monkey)[0]\n",
    "print(cnt)\n",
    "# nucleotide sequence (30262601 nucleotides) for Saimiri boliviensis (correct)\n",
    "# Should have 1122 aa"
   ]
  },
  {
   "cell_type": "code",
   "execution_count": null,
   "metadata": {},
   "outputs": [],
   "source": [
    "# Checking proteins whose sequence lengths do not match the aa counts in the input file\n",
    "# Most obvious Mismatches:\n",
    "# nucleotide sequences for correct protein (GL477576, BAHO01035973, KE993814, NW_003943621)\n",
    "# mRNA sequence for incorrect protein (CT004140)\n",
    "\n",
    "ret_cnts = []\n",
    "for i in range(len(protein_df)):\n",
    "    protein = protein_df.iloc[i][\"accession_num\"]\n",
    "    in_cnt = protein_df.iloc[i][\"aa_cnt\"]  # aa count from infile\n",
    "    gid = protein_df.iloc[i][\"GID\"]\n",
    "    if gid is not np.NaN:\n",
    "        ret_cnt = get_sequence_and_count(protein_df, protein)[0]  ## aa count from API returned sequence\n",
    "        ret_cnts.append(ret_cnt)\n",
    "    else:\n",
    "        ret_cnts.append(np.NaN)\n",
    "\n",
    "protein_df[\"api_returned_aa_count\"] = ret_cnts\n",
    "protein_df"
   ]
  },
  {
   "cell_type": "code",
   "execution_count": null,
   "metadata": {},
   "outputs": [],
   "source": [
    "# Protein sequence counts that do not match the input count:\n",
    "aa_mismatch_df = protein_df[protein_df[\"aa_cnt\"] != protein_df[\"api_returned_aa_count\"]]\n",
    "aa_mismatch_df  # 66 of 88 proteins have this issue, cannot drop them all!"
   ]
  },
  {
   "cell_type": "code",
   "execution_count": null,
   "metadata": {},
   "outputs": [],
   "source": [
    "# Summary of Proteins to be removed:\n",
    "protein_NaNs = show_NaN_rows(protein_df)\n",
    "nuccore_df = protein_df[protein_df[\"accession_num\"].isin(nuccore_proteins)]\n",
    "protein_drop_df = pd.concat([protein_NaNs, nuccore_df])\n",
    "protein_drop_df"
   ]
  },
  {
   "cell_type": "code",
   "execution_count": null,
   "metadata": {},
   "outputs": [],
   "source": [
    "# For now, remove the above 9 protein sequences\n",
    "# These are either:\n",
    "# NaNs, i.e no returned sequence\n",
    "# nucleotide sequences for correct protein (GL477576, BAHO01035973, KE993814, NW_003943621) (from nuccore)\n",
    "# mRNA sequence for incorrect protein (CT004140) (from nuccore)\n",
    "\n",
    "# Remove protein_drop_df (a subset of protein_df) from protein_df:\n",
    "# First merge the df's with `inidcator` showing if the column is left_only, both, or right_only\n",
    "merged_df = protein_df.merge(protein_drop_df, how=\"left\", indicator=True)\n",
    "protein_filt_df = merged_df[merged_df[\"_merge\"] == \"left_only\"]\n",
    "protein_filt_df = protein_filt_df.drop(\"_merge\", axis=1)\n",
    "protein_filt_df"
   ]
  },
  {
   "cell_type": "code",
   "execution_count": null,
   "metadata": {},
   "outputs": [],
   "source": [
    "# Check NaN and nuccore sequences were removed\n",
    "for protein in err_proteins:\n",
    "    print(protein_filt_df[protein_filt_df[\"accession_num\"] == protein])\n",
    "for protein in nuccore_proteins:\n",
    "    print(protein_filt_df[protein_filt_df[\"accession_num\"] == protein])"
   ]
  },
  {
   "cell_type": "code",
   "execution_count": null,
   "metadata": {},
   "outputs": [],
   "source": [
    "# Write cleaned sequence series to file in FASTA format\n",
    "protein_fasta_file = os.path.join(\"Output\", \"proteins.faa\")\n",
    "with open(protein_fasta_file, \"w\") as f:\n",
    "    for sequence in protein_filt_df[\"Sequence\"]:\n",
    "        f.write(sequence[:-1])"
   ]
  },
  {
   "cell_type": "code",
   "execution_count": null,
   "metadata": {},
   "outputs": [],
   "source": [
    "# Write protein_filt_df to csv for use elsewhere\n",
    "protein_csv_file = os.path.join(\"Output\", \"proteins.csv\")\n",
    "protein_filt_df.to_csv(protein_csv_file, index=False)"
   ]
  },
  {
   "cell_type": "code",
   "execution_count": null,
   "metadata": {},
   "outputs": [],
   "source": [
    "# Write nuccore sequences to csv for nucleotide translation script\n",
    "protein_drop_df.dropna().to_csv(os.path.join(\"Output\", \"nucleotides.csv\"), index=False)"
   ]
  },
  {
   "cell_type": "code",
   "execution_count": null,
   "metadata": {},
   "outputs": [],
   "source": [
    "# Checking MAPT proteins only"
   ]
  },
  {
   "cell_type": "code",
   "execution_count": null,
   "metadata": {},
   "outputs": [],
   "source": [
    "# still removing nuccore proteins (GL477576, CT004140)\n",
    "# and those where sequences not found (scaffold11486, JL1528)\n",
    "infile = os.path.join(\"Resources\", \"mapt_only.txt\")\n",
    "with open(infile, \"r\") as f:\n",
    "    lines = f.readlines()\n",
    "mapt_only = [line.replace(\"\\n\", \"\") for line in lines]\n",
    "len(mapt_only)"
   ]
  },
  {
   "cell_type": "code",
   "execution_count": null,
   "metadata": {},
   "outputs": [],
   "source": [
    "is_mapt = protein_df[\"Protein_Accession_Number\"].isin(mapt_only)\n",
    "mapt_df = protein_df[is_mapt]\n",
    "mapt_df"
   ]
  },
  {
   "cell_type": "code",
   "execution_count": null,
   "metadata": {},
   "outputs": [],
   "source": [
    "# Write mapt sequence series to file\n",
    "mapt_fasta_file = \"mapt_only.faa\"\n",
    "with open(mapt_fasta_file, \"w\") as f:\n",
    "    for sequence in mapt_df[\"Sequence\"]:\n",
    "        f.write(sequence[:-1])"
   ]
  },
  {
   "cell_type": "code",
   "execution_count": null,
   "metadata": {},
   "outputs": [],
   "source": []
  }
 ],
 "metadata": {
  "kernelspec": {
   "display_name": "PythonData",
   "language": "python",
   "name": "pythondata"
  },
  "language_info": {
   "codemirror_mode": {
    "name": "ipython",
    "version": 3
   },
   "file_extension": ".py",
   "mimetype": "text/x-python",
   "name": "python",
   "nbconvert_exporter": "python",
   "pygments_lexer": "ipython3",
   "version": "3.7.6"
  }
 },
 "nbformat": 4,
 "nbformat_minor": 4
}
