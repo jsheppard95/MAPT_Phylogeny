{
 "cells": [
  {
   "cell_type": "code",
   "execution_count": 23,
   "metadata": {},
   "outputs": [],
   "source": [
    "import requests\n",
    "import json\n",
    "import xmltodict\n",
    "import os\n",
    "import time\n",
    "import numpy as np\n",
    "import pandas as pd"
   ]
  },
  {
   "cell_type": "code",
   "execution_count": 24,
   "metadata": {},
   "outputs": [],
   "source": [
    "# Function to perform API call and return Python Dictionary containing data\n",
    "def api_call(db, protein):\n",
    "    \"\"\"\n",
    "    Performs API call to NCBI for specified database and protein\n",
    "    Parameters:\n",
    "    -----------\n",
    "    db : str\n",
    "        NCBI database to search for, i.e. 'protein', 'nuccore', etc.\n",
    "    protein : str\n",
    "        Protein accession number to search for\n",
    "    \"\"\"\n",
    "    # Create url for API call\n",
    "    url = \"https://eutils.ncbi.nlm.nih.gov/entrez/eutils/esummary.fcgi?db=\" + db + \"&id=\" + protein\n",
    "    \n",
    "    # Define tempory XML and JSON files\n",
    "    xml_file = \"data.xml\"\n",
    "    json_file = \"data.json\"\n",
    "\n",
    "    # Perform API call\n",
    "    resp = requests.get(url)\n",
    "    \n",
    "    # Save XML result to temporary file\n",
    "    with open(xml_file, \"wb\") as f:\n",
    "        f.write(resp.content)\n",
    "\n",
    "    # Read XML file and convert to OrderedDict using xmltodict\n",
    "    with open(xml_file, \"r\") as f:\n",
    "        data_dict = xmltodict.parse(f.read())\n",
    "    \n",
    "    # Write OrderedDict to JSON file\n",
    "    json_data = json.dumps(data_dict)\n",
    "    with open(json_file, \"w\") as f:\n",
    "        f.write(json_data)\n",
    "    \n",
    "    # Read in JSON file into regular Python dictionary\n",
    "    with open(json_file, \"r\") as f:\n",
    "        data = json.load(f)\n",
    "    \n",
    "    # Clean up temporary files\n",
    "    os.remove(xml_file)\n",
    "    os.remove(json_file)\n",
    "\n",
    "    return data"
   ]
  },
  {
   "cell_type": "code",
   "execution_count": 25,
   "metadata": {},
   "outputs": [
    {
     "data": {
      "text/plain": [
       "{'eSummaryResult': {'DocSum': {'Id': '727378838',\n",
       "   'Item': [{'@Name': 'Caption', '@Type': 'String', '#text': 'LN638503'},\n",
       "    {'@Name': 'Title',\n",
       "     '@Type': 'String',\n",
       "     '#text': 'Fasciola hepatica genome assembly Fhepatica_v1, scaffold scaffold11486, whole genome shotgun sequence'},\n",
       "    {'@Name': 'Extra',\n",
       "     '@Type': 'String',\n",
       "     '#text': 'gi|727378838|emb|LN638503.1|[727378838]'},\n",
       "    {'@Name': 'Gi', '@Type': 'Integer', '#text': '727378838'},\n",
       "    {'@Name': 'CreateDate', '@Type': 'String', '#text': '2014/11/08'},\n",
       "    {'@Name': 'UpdateDate', '@Type': 'String', '#text': '2014/11/08'},\n",
       "    {'@Name': 'Flags', '@Type': 'Integer', '#text': '32'},\n",
       "    {'@Name': 'TaxId', '@Type': 'Integer', '#text': '6192'},\n",
       "    {'@Name': 'Length', '@Type': 'Integer', '#text': '7454'},\n",
       "    {'@Name': 'Status', '@Type': 'String', '#text': 'live'},\n",
       "    {'@Name': 'ReplacedBy', '@Type': 'String'},\n",
       "    {'@Name': 'Comment', '@Type': 'String'},\n",
       "    {'@Name': 'AccessionVersion', '@Type': 'String', '#text': 'LN638503.1'}]}}}"
      ]
     },
     "execution_count": 25,
     "metadata": {},
     "output_type": "execute_result"
    }
   ],
   "source": [
    "api_call(\"nuccore\", \"LN638503\")  # scaffold 11486, but lots of different accession numbers with scaffold 11486"
   ]
  },
  {
   "cell_type": "code",
   "execution_count": 26,
   "metadata": {},
   "outputs": [
    {
     "data": {
      "text/plain": [
       "'ERROR'"
      ]
     },
     "execution_count": 26,
     "metadata": {},
     "output_type": "execute_result"
    }
   ],
   "source": [
    "# Example call where protein not found\n",
    "test = api_call(\"protein\", \"LN638503\")\n",
    "list(test[\"eSummaryResult\"].items())[0][0]"
   ]
  },
  {
   "cell_type": "code",
   "execution_count": 27,
   "metadata": {},
   "outputs": [
    {
     "data": {
      "text/plain": [
       "['NP_001116538', 'Q5YCV9', 'XP_012352933', 'XP_002800600', 'XP_003913279']"
      ]
     },
     "execution_count": 27,
     "metadata": {},
     "output_type": "execute_result"
    }
   ],
   "source": [
    "# Read protein accession numbers from proteins.txt\n",
    "infile = os.path.join(\"Resources\", \"proteins.txt\")\n",
    "with open(infile, \"r\") as f:\n",
    "    lines = f.readlines()\n",
    "proteins = [line.replace(\"\\n\", \"\") for line in lines]\n",
    "proteins[:5]"
   ]
  },
  {
   "cell_type": "code",
   "execution_count": 28,
   "metadata": {},
   "outputs": [
    {
     "name": "stdout",
     "output_type": "stream",
     "text": [
      "Protein 88 of 88\r"
     ]
    },
    {
     "data": {
      "text/plain": [
       "['294862258', '59798492', '821025767', '297273333', '1777289710']"
      ]
     },
     "execution_count": 28,
     "metadata": {},
     "output_type": "execute_result"
    }
   ],
   "source": [
    "# Perform API Call to NCBI to get GIDs for each Protein\n",
    "gids = []\n",
    "err_proteins = []  # list to hold proteins not found\n",
    "\n",
    "# Be nice: no more than 3 calls per second -> every three calls wait 1 second\n",
    "cnt = 0\n",
    "for protein in proteins:\n",
    "    print(\"Protein %s of %s\" % (cnt + 1, len(proteins)), end=\"\\r\")\n",
    "\n",
    "    if (cnt % 3) == 0:\n",
    "        time.sleep(1)\n",
    "\n",
    "    result = api_call(\"protein\", protein)\n",
    "    # Check for error and search nuccore instead\n",
    "    if list(result[\"eSummaryResult\"].items())[0][0] == \"ERROR\":\n",
    "        result = api_call(\"nuccore\", protein)\n",
    "    \n",
    "    try:\n",
    "        gid = result[\"eSummaryResult\"][\"DocSum\"][\"Id\"]\n",
    "        gids.append(gid)\n",
    "    except KeyError:\n",
    "        err_proteins.append(protein)\n",
    "        gids.append(np.NaN)\n",
    "    cnt += 1\n",
    "gids[0:5]"
   ]
  },
  {
   "cell_type": "code",
   "execution_count": 29,
   "metadata": {},
   "outputs": [
    {
     "name": "stdout",
     "output_type": "stream",
     "text": [
      "Total Number of Proteins: 88\n",
      "Proteins Without Entries (4):\n",
      "scaffold11486\n",
      "JL1528\n",
      "scaffold43622\n",
      "XP_01266736\n"
     ]
    }
   ],
   "source": [
    "print(\"Total Number of Proteins:\", len(proteins))\n",
    "print(\"Proteins Without Entries (%s):\" % len(err_proteins))\n",
    "for protein in err_proteins:\n",
    "    print(protein)"
   ]
  },
  {
   "cell_type": "code",
   "execution_count": 30,
   "metadata": {},
   "outputs": [
    {
     "data": {
      "text/html": [
       "<div>\n",
       "<style scoped>\n",
       "    .dataframe tbody tr th:only-of-type {\n",
       "        vertical-align: middle;\n",
       "    }\n",
       "\n",
       "    .dataframe tbody tr th {\n",
       "        vertical-align: top;\n",
       "    }\n",
       "\n",
       "    .dataframe thead th {\n",
       "        text-align: right;\n",
       "    }\n",
       "</style>\n",
       "<table border=\"1\" class=\"dataframe\">\n",
       "  <thead>\n",
       "    <tr style=\"text-align: right;\">\n",
       "      <th></th>\n",
       "      <th>Protein_Accession_Number</th>\n",
       "      <th>GID</th>\n",
       "    </tr>\n",
       "  </thead>\n",
       "  <tbody>\n",
       "    <tr>\n",
       "      <th>0</th>\n",
       "      <td>NP_001116538</td>\n",
       "      <td>294862258</td>\n",
       "    </tr>\n",
       "    <tr>\n",
       "      <th>1</th>\n",
       "      <td>Q5YCV9</td>\n",
       "      <td>59798492</td>\n",
       "    </tr>\n",
       "    <tr>\n",
       "      <th>2</th>\n",
       "      <td>XP_012352933</td>\n",
       "      <td>821025767</td>\n",
       "    </tr>\n",
       "    <tr>\n",
       "      <th>3</th>\n",
       "      <td>XP_002800600</td>\n",
       "      <td>297273333</td>\n",
       "    </tr>\n",
       "    <tr>\n",
       "      <th>4</th>\n",
       "      <td>XP_003913279</td>\n",
       "      <td>1777289710</td>\n",
       "    </tr>\n",
       "  </tbody>\n",
       "</table>\n",
       "</div>"
      ],
      "text/plain": [
       "  Protein_Accession_Number         GID\n",
       "0             NP_001116538   294862258\n",
       "1                   Q5YCV9    59798492\n",
       "2             XP_012352933   821025767\n",
       "3             XP_002800600   297273333\n",
       "4             XP_003913279  1777289710"
      ]
     },
     "execution_count": 30,
     "metadata": {},
     "output_type": "execute_result"
    }
   ],
   "source": [
    "# Add Proteins to DataFrame\n",
    "protein_df = pd.DataFrame({\"Protein_Accession_Number\": proteins, \"GID\": gids})\n",
    "protein_df.head()"
   ]
  },
  {
   "cell_type": "code",
   "execution_count": 31,
   "metadata": {},
   "outputs": [
    {
     "data": {
      "text/html": [
       "<div>\n",
       "<style scoped>\n",
       "    .dataframe tbody tr th:only-of-type {\n",
       "        vertical-align: middle;\n",
       "    }\n",
       "\n",
       "    .dataframe tbody tr th {\n",
       "        vertical-align: top;\n",
       "    }\n",
       "\n",
       "    .dataframe thead th {\n",
       "        text-align: right;\n",
       "    }\n",
       "</style>\n",
       "<table border=\"1\" class=\"dataframe\">\n",
       "  <thead>\n",
       "    <tr style=\"text-align: right;\">\n",
       "      <th></th>\n",
       "      <th>Protein_Accession_Number</th>\n",
       "      <th>GID</th>\n",
       "    </tr>\n",
       "  </thead>\n",
       "  <tbody>\n",
       "    <tr>\n",
       "      <th>22</th>\n",
       "      <td>scaffold11486</td>\n",
       "      <td>NaN</td>\n",
       "    </tr>\n",
       "    <tr>\n",
       "      <th>31</th>\n",
       "      <td>JL1528</td>\n",
       "      <td>NaN</td>\n",
       "    </tr>\n",
       "    <tr>\n",
       "      <th>54</th>\n",
       "      <td>scaffold43622</td>\n",
       "      <td>NaN</td>\n",
       "    </tr>\n",
       "    <tr>\n",
       "      <th>70</th>\n",
       "      <td>XP_01266736</td>\n",
       "      <td>NaN</td>\n",
       "    </tr>\n",
       "  </tbody>\n",
       "</table>\n",
       "</div>"
      ],
      "text/plain": [
       "   Protein_Accession_Number  GID\n",
       "22            scaffold11486  NaN\n",
       "31                   JL1528  NaN\n",
       "54            scaffold43622  NaN\n",
       "70              XP_01266736  NaN"
      ]
     },
     "execution_count": 31,
     "metadata": {},
     "output_type": "execute_result"
    }
   ],
   "source": [
    "# Confirm missing GIDs consistent with API result:\n",
    "is_NaN = protein_df.isnull()\n",
    "row_has_NaN = is_NaN.any(axis=1)\n",
    "protein_NaN = protein_df[row_has_NaN]\n",
    "protein_NaN"
   ]
  },
  {
   "cell_type": "code",
   "execution_count": 32,
   "metadata": {},
   "outputs": [],
   "source": [
    "# Need to output sequences to FASTA (.faa) file for alignment before bassing to RAxML to generate\n",
    "# Phylogenetic tree\n",
    "# FASTA Format:\n",
    "#>SEQUENCE_1\n",
    "#...\n",
    "#>SEQUENCE_2\n",
    "#...\n",
    "#>..."
   ]
  },
  {
   "cell_type": "code",
   "execution_count": 43,
   "metadata": {},
   "outputs": [
    {
     "name": "stdout",
     "output_type": "stream",
     "text": [
      "Protein 88 of 88\r"
     ]
    }
   ],
   "source": [
    "# Get Sequences from GID numbers and write to FASTA file:\n",
    "cnt = 0\n",
    "seqs = []\n",
    "protein_fasta_file = \"proteins.faa\"\n",
    "# Write sequence to FASTA file\n",
    "with open(protein_fasta_file, \"w\") as f:\n",
    "    for gid in gids:\n",
    "        print(\"Protein %s of %s\" % (cnt + 1, len(proteins)), end=\"\\r\")\n",
    "        if (cnt % 3) == 0:\n",
    "            time.sleep(1)\n",
    "        if gid is not np.NaN:\n",
    "            gid_url = \"https://eutils.ncbi.nlm.nih.gov/entrez/eutils/efetch.fcgi?db=sequences&id=\" + gid + \"&rettype=fasta&retmode=text\"\n",
    "            gid_resp = requests.get(gid_url)\n",
    "            gid_resp_decode = gid_resp.content.decode(\"utf-8\")\n",
    "\n",
    "            # Get sequence\n",
    "            seq_arr = gid_resp_decode.split(\"\\n\")\n",
    "            seq = \"\"\n",
    "            for i in range(1, len(seq_arr)):\n",
    "                seq += seq_arr[i]\n",
    "            seqs.append(seq)\n",
    "\n",
    "            f.write(gid_resp_decode[:-1])  # not including missing GID results, remove last `\\n`\n",
    "        else:\n",
    "            seqs.append(np.NaN)\n",
    "        cnt += 1"
   ]
  },
  {
   "cell_type": "code",
   "execution_count": 34,
   "metadata": {},
   "outputs": [
    {
     "data": {
      "text/html": [
       "<div>\n",
       "<style scoped>\n",
       "    .dataframe tbody tr th:only-of-type {\n",
       "        vertical-align: middle;\n",
       "    }\n",
       "\n",
       "    .dataframe tbody tr th {\n",
       "        vertical-align: top;\n",
       "    }\n",
       "\n",
       "    .dataframe thead th {\n",
       "        text-align: right;\n",
       "    }\n",
       "</style>\n",
       "<table border=\"1\" class=\"dataframe\">\n",
       "  <thead>\n",
       "    <tr style=\"text-align: right;\">\n",
       "      <th></th>\n",
       "      <th>Protein_Accession_Number</th>\n",
       "      <th>GID</th>\n",
       "      <th>Sequence</th>\n",
       "    </tr>\n",
       "  </thead>\n",
       "  <tbody>\n",
       "    <tr>\n",
       "      <th>0</th>\n",
       "      <td>NP_001116538</td>\n",
       "      <td>294862258</td>\n",
       "      <td>MAEPRQEFEVMEDHAGTYGLGDRKDQGGYTMHQDQEGDTDAGLKES...</td>\n",
       "    </tr>\n",
       "    <tr>\n",
       "      <th>1</th>\n",
       "      <td>Q5YCV9</td>\n",
       "      <td>59798492</td>\n",
       "      <td>MAEPRQEFDVMEDHAGTYGLGDRKDQGGYTMLQDQEGDTDAGLKES...</td>\n",
       "    </tr>\n",
       "    <tr>\n",
       "      <th>2</th>\n",
       "      <td>XP_012352933</td>\n",
       "      <td>821025767</td>\n",
       "      <td>MAEPRQEYDVMEDHAGTYGLGDRKDQGGYTMLQDQEGDTDAGLKES...</td>\n",
       "    </tr>\n",
       "    <tr>\n",
       "      <th>3</th>\n",
       "      <td>XP_002800600</td>\n",
       "      <td>297273333</td>\n",
       "      <td>MAEPRQEFDVMEDHAGTYGLGDRKDQEGYTMLQDQEGDTDAGLKES...</td>\n",
       "    </tr>\n",
       "    <tr>\n",
       "      <th>4</th>\n",
       "      <td>XP_003913279</td>\n",
       "      <td>1777289710</td>\n",
       "      <td>MAEPRQEFDVMEDHAGTYGLGDRKDQEGYTMLQDQEGDTDAGLKES...</td>\n",
       "    </tr>\n",
       "  </tbody>\n",
       "</table>\n",
       "</div>"
      ],
      "text/plain": [
       "  Protein_Accession_Number         GID  \\\n",
       "0             NP_001116538   294862258   \n",
       "1                   Q5YCV9    59798492   \n",
       "2             XP_012352933   821025767   \n",
       "3             XP_002800600   297273333   \n",
       "4             XP_003913279  1777289710   \n",
       "\n",
       "                                            Sequence  \n",
       "0  MAEPRQEFEVMEDHAGTYGLGDRKDQGGYTMHQDQEGDTDAGLKES...  \n",
       "1  MAEPRQEFDVMEDHAGTYGLGDRKDQGGYTMLQDQEGDTDAGLKES...  \n",
       "2  MAEPRQEYDVMEDHAGTYGLGDRKDQGGYTMLQDQEGDTDAGLKES...  \n",
       "3  MAEPRQEFDVMEDHAGTYGLGDRKDQEGYTMLQDQEGDTDAGLKES...  \n",
       "4  MAEPRQEFDVMEDHAGTYGLGDRKDQEGYTMLQDQEGDTDAGLKES...  "
      ]
     },
     "execution_count": 34,
     "metadata": {},
     "output_type": "execute_result"
    }
   ],
   "source": [
    "# Add sequences to protein_df\n",
    "protein_df[\"Sequence\"] = seqs\n",
    "protein_df.head()"
   ]
  },
  {
   "cell_type": "code",
   "execution_count": 35,
   "metadata": {},
   "outputs": [
    {
     "data": {
      "text/html": [
       "<div>\n",
       "<style scoped>\n",
       "    .dataframe tbody tr th:only-of-type {\n",
       "        vertical-align: middle;\n",
       "    }\n",
       "\n",
       "    .dataframe tbody tr th {\n",
       "        vertical-align: top;\n",
       "    }\n",
       "\n",
       "    .dataframe thead th {\n",
       "        text-align: right;\n",
       "    }\n",
       "</style>\n",
       "<table border=\"1\" class=\"dataframe\">\n",
       "  <thead>\n",
       "    <tr style=\"text-align: right;\">\n",
       "      <th></th>\n",
       "      <th>Protein_Accession_Number</th>\n",
       "      <th>GID</th>\n",
       "      <th>Sequence</th>\n",
       "    </tr>\n",
       "  </thead>\n",
       "  <tbody>\n",
       "    <tr>\n",
       "      <th>22</th>\n",
       "      <td>scaffold11486</td>\n",
       "      <td>NaN</td>\n",
       "      <td>NaN</td>\n",
       "    </tr>\n",
       "    <tr>\n",
       "      <th>31</th>\n",
       "      <td>JL1528</td>\n",
       "      <td>NaN</td>\n",
       "      <td>NaN</td>\n",
       "    </tr>\n",
       "    <tr>\n",
       "      <th>54</th>\n",
       "      <td>scaffold43622</td>\n",
       "      <td>NaN</td>\n",
       "      <td>NaN</td>\n",
       "    </tr>\n",
       "    <tr>\n",
       "      <th>70</th>\n",
       "      <td>XP_01266736</td>\n",
       "      <td>NaN</td>\n",
       "      <td>NaN</td>\n",
       "    </tr>\n",
       "  </tbody>\n",
       "</table>\n",
       "</div>"
      ],
      "text/plain": [
       "   Protein_Accession_Number  GID Sequence\n",
       "22            scaffold11486  NaN      NaN\n",
       "31                   JL1528  NaN      NaN\n",
       "54            scaffold43622  NaN      NaN\n",
       "70              XP_01266736  NaN      NaN"
      ]
     },
     "execution_count": 35,
     "metadata": {},
     "output_type": "execute_result"
    }
   ],
   "source": [
    "# Confirm consistent NaN's\n",
    "is_NaN = protein_df.isnull()\n",
    "row_has_NaN = is_NaN.any(axis=1)\n",
    "protein_NaN = protein_df[row_has_NaN]\n",
    "protein_NaN"
   ]
  },
  {
   "cell_type": "code",
   "execution_count": null,
   "metadata": {},
   "outputs": [],
   "source": []
  }
 ],
 "metadata": {
  "kernelspec": {
   "display_name": "PythonData",
   "language": "python",
   "name": "pythondata"
  },
  "language_info": {
   "codemirror_mode": {
    "name": "ipython",
    "version": 3
   },
   "file_extension": ".py",
   "mimetype": "text/x-python",
   "name": "python",
   "nbconvert_exporter": "python",
   "pygments_lexer": "ipython3",
   "version": "3.7.6"
  }
 },
 "nbformat": 4,
 "nbformat_minor": 4
}
