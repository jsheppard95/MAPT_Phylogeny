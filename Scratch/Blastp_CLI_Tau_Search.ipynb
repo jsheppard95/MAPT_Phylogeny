{
 "cells": [
  {
   "cell_type": "code",
   "execution_count": 1,
   "metadata": {},
   "outputs": [],
   "source": [
    "import os\n",
    "import pandas as pd\n",
    "import subprocess\n",
    "from Bio import SeqIO"
   ]
  },
  {
   "cell_type": "code",
   "execution_count": 2,
   "metadata": {},
   "outputs": [
    {
     "data": {
      "text/html": [
       "<div>\n",
       "<style scoped>\n",
       "    .dataframe tbody tr th:only-of-type {\n",
       "        vertical-align: middle;\n",
       "    }\n",
       "\n",
       "    .dataframe tbody tr th {\n",
       "        vertical-align: top;\n",
       "    }\n",
       "\n",
       "    .dataframe thead th {\n",
       "        text-align: right;\n",
       "    }\n",
       "</style>\n",
       "<table border=\"1\" class=\"dataframe\">\n",
       "  <thead>\n",
       "    <tr style=\"text-align: right;\">\n",
       "      <th></th>\n",
       "      <th>ID</th>\n",
       "      <th>Name</th>\n",
       "      <th>Sequence</th>\n",
       "      <th>Description</th>\n",
       "    </tr>\n",
       "  </thead>\n",
       "  <tbody>\n",
       "    <tr>\n",
       "      <th>0</th>\n",
       "      <td>MAP2HSA4</td>\n",
       "      <td>MAP2HSA4</td>\n",
       "      <td>(M, A, D, E, R, K, D, E, A, K, A, P, H, W, T, ...</td>\n",
       "      <td>MAP2HSA4 C-1915 aa ORF2 452-6196 1915 aa/6325 ...</td>\n",
       "    </tr>\n",
       "    <tr>\n",
       "      <th>1</th>\n",
       "      <td>MAP2CJA2</td>\n",
       "      <td>MAP2CJA2</td>\n",
       "      <td>(M, A, D, E, R, K, D, E, A, K, A, P, H, W, T, ...</td>\n",
       "      <td>MAP2CJA2 C-1918 aa ORF1 1-5754 1918 aa/5917 bp...</td>\n",
       "    </tr>\n",
       "    <tr>\n",
       "      <th>2</th>\n",
       "      <td>MAP2GGO2</td>\n",
       "      <td>MAP2GGO2</td>\n",
       "      <td>(M, A, D, E, R, K, D, E, A, K, A, P, H, W, T, ...</td>\n",
       "      <td>MAP2GGO2 C-1915 aa ORF1 1-5745 1915 aa/5748 bp...</td>\n",
       "    </tr>\n",
       "    <tr>\n",
       "      <th>3</th>\n",
       "      <td>MAP2MFA2</td>\n",
       "      <td>MAP2MFA2</td>\n",
       "      <td>(M, A, D, E, R, K, D, E, A, K, A, P, H, W, T, ...</td>\n",
       "      <td>MAP2MFA2 C-1915 aa MAP2 Macaca fascicularis (c...</td>\n",
       "    </tr>\n",
       "    <tr>\n",
       "      <th>4</th>\n",
       "      <td>MAP2MML2</td>\n",
       "      <td>MAP2MML2</td>\n",
       "      <td>(M, A, D, E, R, K, D, E, A, K, A, P, H, W, T, ...</td>\n",
       "      <td>MAP2MML2 C-1915 aa ORF3 30-5774 1915 aa/5903 b...</td>\n",
       "    </tr>\n",
       "  </tbody>\n",
       "</table>\n",
       "</div>"
      ],
      "text/plain": [
       "         ID      Name                                           Sequence  \\\n",
       "0  MAP2HSA4  MAP2HSA4  (M, A, D, E, R, K, D, E, A, K, A, P, H, W, T, ...   \n",
       "1  MAP2CJA2  MAP2CJA2  (M, A, D, E, R, K, D, E, A, K, A, P, H, W, T, ...   \n",
       "2  MAP2GGO2  MAP2GGO2  (M, A, D, E, R, K, D, E, A, K, A, P, H, W, T, ...   \n",
       "3  MAP2MFA2  MAP2MFA2  (M, A, D, E, R, K, D, E, A, K, A, P, H, W, T, ...   \n",
       "4  MAP2MML2  MAP2MML2  (M, A, D, E, R, K, D, E, A, K, A, P, H, W, T, ...   \n",
       "\n",
       "                                         Description  \n",
       "0  MAP2HSA4 C-1915 aa ORF2 452-6196 1915 aa/6325 ...  \n",
       "1  MAP2CJA2 C-1918 aa ORF1 1-5754 1918 aa/5917 bp...  \n",
       "2  MAP2GGO2 C-1915 aa ORF1 1-5745 1915 aa/5748 bp...  \n",
       "3  MAP2MFA2 C-1915 aa MAP2 Macaca fascicularis (c...  \n",
       "4  MAP2MML2 C-1915 aa ORF3 30-5774 1915 aa/5903 b...  "
      ]
     },
     "execution_count": 2,
     "metadata": {},
     "output_type": "execute_result"
    }
   ],
   "source": [
    "# Get sequences from Reg's LIB file:\n",
    "infile = os.path.join(\"fasta_files\", \"MAPT_Morgan_Copy.LIB\")\n",
    "record_dict = SeqIO.to_dict(SeqIO.parse(infile, \"fasta\"))\n",
    "\n",
    "# Add LIB data to df\n",
    "ids = []\n",
    "names = []\n",
    "seqs = []\n",
    "descs = []\n",
    "\n",
    "for record in record_dict:\n",
    "    ids.append(record_dict[record].id)\n",
    "    names.append(record_dict[record].name)\n",
    "    seqs.append(record_dict[record].seq)\n",
    "    descs.append(record_dict[record].description)\n",
    "\n",
    "mapt_morgan_df = pd.DataFrame({\n",
    "    \"ID\": ids,\n",
    "    \"Name\": names,\n",
    "    \"Sequence\": seqs,\n",
    "    \"Description\": descs\n",
    "})\n",
    "mapt_morgan_df.head()"
   ]
  },
  {
   "cell_type": "code",
   "execution_count": 7,
   "metadata": {},
   "outputs": [
    {
     "name": "stdout",
     "output_type": "stream",
     "text": [
      "b''\n"
     ]
    }
   ],
   "source": [
    "# Searching sequences using blastp CLI:\n",
    "# For each record in `mapt_morgan_df`:\n",
    "# Write current sequence to temp file in fasta format\n",
    "# Call blastp to query the single-sequence fasta file\n",
    "# Write results to temop output file\n",
    "# Read in output file for processing, removing the temp files\n",
    "\n",
    "for record in record_dict:\n",
    "    SeqIO.write(record_dict[record], \"temp.fasta\", \"fasta\")\n",
    "    result = subprocess.check_output([\"blastp\", \"-db\", \"nr\", \"-query\", \"temp.fasta\", \"-out\", \"temp.out\", \"-remote\"])\n",
    "    print(result)\n",
    "    break"
   ]
  },
  {
   "cell_type": "code",
   "execution_count": null,
   "metadata": {},
   "outputs": [],
   "source": [
    "mapt_morgan_df[mapt_morgan_df[\"ID\"] == \"MAPTHSv6\"]"
   ]
  },
  {
   "cell_type": "code",
   "execution_count": null,
   "metadata": {},
   "outputs": [],
   "source": [
    "SeqIO.write(record_dict[\"MAPTHSv6\"], \"temp.fasta\", \"fasta\")\n",
    "\n",
    "os.system(\"blastp -db nr -query temp.fasta -out temp.out -remote\")"
   ]
  },
  {
   "cell_type": "code",
   "execution_count": null,
   "metadata": {},
   "outputs": [],
   "source": [
    "os.getcwd()"
   ]
  },
  {
   "cell_type": "code",
   "execution_count": 4,
   "metadata": {},
   "outputs": [
    {
     "name": "stdout",
     "output_type": "stream",
     "text": [
      "MADERKDEAKAPHWTSAPLTEASAHSHPPEIKDQGGAGEGLVRSANGFPYREDEEGAFGEHGSQGTYSNTKENGINGELTSADRETAEEVSARIVQVVTAEAVAVLKGEQEKEAQHKDQTAALPLAAEETANLPPSPPPSPASEQTVTVEEDLLTASKMEFHDQQELTPSTAEPSDQKEKESEKQSKPGEDLKHAALVSQPETTKTYPDKKDMQGTEEEKAPLALFGHTLVASLEDMKQKTEPSLVVPGIDLPKEPPTPKEQKDWFIEMPTEAKKDEWGLVAPISPGPLTPMREKDVFDDIPKWEGKQFDSPMPSPFQGGSFTLPLDVMKNEIVTETSPFAPAFLQPDDKKSLQQTSGPATAKDSFKIEEPHEAKPDKMAEAPPSEAMTLPKDAHIPVVEEHVMGKVLEEEKEAINQETVQQRDTFTPSGQEPILTEKETELKLEEKTTISDKEAVPKESKPPKPADEEIGIIQTSTEHTFSEQKDQEPTTDMLKQDSFPVSLEQAVTDSAMTSKTLEKAMTEPSALIEKSSIQELFEMRVDDKDKIEGVGAATSAELDMPFYEDKSGMSKYFETSALKEEATKSIEPGSDYYELSDTRESVHESIDTMSPMHKNGDKEFQTGKESQPSPPAQEAGYSTLAQSYPSDLPEEPSSPQERMFTIDPKVYGEKRDLHSKNKDDLTLSRSLGLGGRSAIEQRSMSINLPMSCLDSIALGFNFGRGHDLSPLASDILTNTSGSMDEGDDYLPATTPALEKAPCFPVESKEEEQIEKVKATGEESTQAEISCESPFLAKDFYKNGTVMAPDLPEMLDLAGTRSRLASVSADAEVARRKSVPSETVVEDSRTGLPPVTDENHVIVKTDSQLEDLGYCVFNKYTVPLPSPVQDSENLSGESGTFYEGTDDKVRRDLATDLSLIEVKLAAAGRVKDEFSVDKEASAHISGDKSGLSKEFDQEKKANDRLDTVLEKSEEHADSKEHAKKTEEAGDEIETFGLGVTYEQALAKDLSIPTDASSEKAEKGLSSVPEIAEVEPSKKVEQGLDFAVQGQLDVKISDFGQMASGLNIDDRRATELKLEATQDMTPSSKAPQEADAFMGVESGHMKEGTKVSETEVKEKVAKPDLVHQEAVDKEESYESSGEHESLTMESLKADEGKKETSPESSLIQDEIAVKLSVEIPCPPAVSEADLATDERADVQMEFIQGPKEESKETPDISITPSDVAEPLHETIVSEPAEIQSEEEEIEAQGEYDKLLFRSDTLQITDLGVSGAREEFVETCPSEHKGVIESVVTIEDDFITVVQTTTDEGESGSHSVRFAALEQPEVERRPSPHDEEEFEVEEAAEAQAEPKDGSPEAPASPEREEVALSEYKTETYDDYKDETTIDDSIMDADSLWVDTQDDDRSIMTEQLETIPKEEKAEKEARRSSLEKHRKEKPFKTGRGRISTPERKVAKKEPSTVSRDEVRRKKAVYKKAELAKKTEVQAHSPSRKFILKPAIKYTRPTHLSCVKRKTTAAGGESALAPSVFKQAKDKVSNSTLSKIPALQGSTKSPRYSSACPSTTKRATFSDSLLIQPTSAGSTDRLPYSKSGNKDGVTKSPEKRSSLPRPSSILPPRRGVSGDRDENSFSLNSSISSSARRTTRSEPIRRAGKSGTSTPTTPGSTAITPGTPPSYSSRTPGTPGTPSYPRTPHTPGTPKSAILVPSEKKVAIIRTPPKSPATPKQLRLINQPLPDLKNVKSKIGSTDNIKYQPKGGQVRILNKKIDFSKVQSRCGSKDNIKHSAGGGNVQIVTKKIDLSHVTSKCGSLKNIRHRPGGGRVKIESVKLDFKEKAQAKVGSLDNAHHVPGGGNVKIDSQKLNFREHAKARVDHGAEIITQSPGRSSVASPRRLSNVSSSGSINLLESPQLATLAEDVTAALAKQGL\n"
     ]
    }
   ],
   "source": [
    "print(mapt_morgan_df.loc[0, ][\"Sequence\"])"
   ]
  },
  {
   "cell_type": "code",
   "execution_count": 5,
   "metadata": {},
   "outputs": [],
   "source": [
    "test = subprocess.check_output([\"ls\"])"
   ]
  },
  {
   "cell_type": "code",
   "execution_count": 6,
   "metadata": {},
   "outputs": [
    {
     "data": {
      "text/plain": [
       "b'Blastp_CLI_Tau_Search.ipynb\\nLIB_Chunks\\nMAPT_Morgan\\nNCBI_MSA_Phylo\\nPresentations\\nProtein_Sequence_Search.py\\nProtein_Sequence_Search_Output\\nPyPDB_Tau_Search.ipynb\\nRAxML\\nREADME.md\\nScratch\\n__pycache__\\naccession_files\\nblast+\\ncheck_mapt_lib.py\\ndna_translation.py\\nfasta_files\\nfasta_to_phy.py\\nhelper_functions.py\\nmuscle\\ntemp.fasta\\ntemp.out\\n'"
      ]
     },
     "execution_count": 6,
     "metadata": {},
     "output_type": "execute_result"
    }
   ],
   "source": [
    "test"
   ]
  },
  {
   "cell_type": "code",
   "execution_count": 8,
   "metadata": {},
   "outputs": [
    {
     "data": {
      "text/plain": [
       "b''"
      ]
     },
     "execution_count": 8,
     "metadata": {},
     "output_type": "execute_result"
    }
   ],
   "source": [
    "result = subprocess.check_output([\"blastp\", \"-db\", \"nr\", \"-query\", \"temp.fasta\", \"-out\", \"temp.out\", \"-remote\"])\n",
    "result"
   ]
  },
  {
   "cell_type": "code",
   "execution_count": null,
   "metadata": {},
   "outputs": [],
   "source": []
  }
 ],
 "metadata": {
  "kernelspec": {
   "display_name": "PythonData",
   "language": "python",
   "name": "pythondata"
  },
  "language_info": {
   "codemirror_mode": {
    "name": "ipython",
    "version": 3
   },
   "file_extension": ".py",
   "mimetype": "text/x-python",
   "name": "python",
   "nbconvert_exporter": "python",
   "pygments_lexer": "ipython3",
   "version": "3.7.6"
  }
 },
 "nbformat": 4,
 "nbformat_minor": 4
}
