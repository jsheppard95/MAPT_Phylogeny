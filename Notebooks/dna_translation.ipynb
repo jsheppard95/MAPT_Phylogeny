{
 "cells": [
  {
   "cell_type": "code",
   "execution_count": 2,
   "metadata": {},
   "outputs": [],
   "source": [
    "# Jupyter Notebook scratch work to read in DNA sequence\n",
    "# and convert to amino acid sequence\n",
    "import os\n",
    "import pandas as pd\n",
    "import requests\n",
    "from helper_functions import api_call, get_fasta_from_df, convert_fasta_to_str"
   ]
  },
  {
   "cell_type": "code",
   "execution_count": 3,
   "metadata": {},
   "outputs": [
    {
     "data": {
      "text/html": [
       "<div>\n",
       "<style scoped>\n",
       "    .dataframe tbody tr th:only-of-type {\n",
       "        vertical-align: middle;\n",
       "    }\n",
       "\n",
       "    .dataframe tbody tr th {\n",
       "        vertical-align: top;\n",
       "    }\n",
       "\n",
       "    .dataframe thead th {\n",
       "        text-align: right;\n",
       "    }\n",
       "</style>\n",
       "<table border=\"1\" class=\"dataframe\">\n",
       "  <thead>\n",
       "    <tr style=\"text-align: right;\">\n",
       "      <th></th>\n",
       "      <th>accession_num</th>\n",
       "      <th>aa_cnt</th>\n",
       "      <th>DB</th>\n",
       "      <th>GID</th>\n",
       "      <th>Sequence</th>\n",
       "      <th>api_returned_aa_count</th>\n",
       "    </tr>\n",
       "  </thead>\n",
       "  <tbody>\n",
       "    <tr>\n",
       "      <th>0</th>\n",
       "      <td>GL477576</td>\n",
       "      <td>798.0</td>\n",
       "      <td>nuccore</td>\n",
       "      <td>308150460</td>\n",
       "      <td>&gt;GL477576.1 Petromyzon marinus unplaced genomi...</td>\n",
       "      <td>210407.0</td>\n",
       "    </tr>\n",
       "    <tr>\n",
       "      <th>1</th>\n",
       "      <td>CT004140</td>\n",
       "      <td>243.0</td>\n",
       "      <td>nuccore</td>\n",
       "      <td>68298023</td>\n",
       "      <td>&gt;CT004140.1 CT004140 RZPD no.9017 Homo sapiens...</td>\n",
       "      <td>837.0</td>\n",
       "    </tr>\n",
       "    <tr>\n",
       "      <th>2</th>\n",
       "      <td>BAHO01035973</td>\n",
       "      <td>2118.0</td>\n",
       "      <td>nuccore</td>\n",
       "      <td>405900247</td>\n",
       "      <td>&gt;BAHO01035973.1 Latimeria chalumnae DNA, conti...</td>\n",
       "      <td>15919.0</td>\n",
       "    </tr>\n",
       "    <tr>\n",
       "      <th>3</th>\n",
       "      <td>KE993814</td>\n",
       "      <td>196.0</td>\n",
       "      <td>nuccore</td>\n",
       "      <td>543413231</td>\n",
       "      <td>&gt;KE993814.1 Lethenteron camtschaticum unplaced...</td>\n",
       "      <td>1564372.0</td>\n",
       "    </tr>\n",
       "    <tr>\n",
       "      <th>4</th>\n",
       "      <td>NW_003943621</td>\n",
       "      <td>1122.0</td>\n",
       "      <td>nuccore</td>\n",
       "      <td>395725070</td>\n",
       "      <td>&gt;NW_003943621.1 Saimiri boliviensis boliviensi...</td>\n",
       "      <td>30262601.0</td>\n",
       "    </tr>\n",
       "    <tr>\n",
       "      <th>5</th>\n",
       "      <td>NM_207618</td>\n",
       "      <td>NaN</td>\n",
       "      <td>NaN</td>\n",
       "      <td>256418990</td>\n",
       "      <td>&gt;NM_207618.2 Mus musculus vomeronasal 1 recept...</td>\n",
       "      <td>1157.0</td>\n",
       "    </tr>\n",
       "  </tbody>\n",
       "</table>\n",
       "</div>"
      ],
      "text/plain": [
       "  accession_num  aa_cnt       DB        GID  \\\n",
       "0      GL477576   798.0  nuccore  308150460   \n",
       "1      CT004140   243.0  nuccore   68298023   \n",
       "2  BAHO01035973  2118.0  nuccore  405900247   \n",
       "3      KE993814   196.0  nuccore  543413231   \n",
       "4  NW_003943621  1122.0  nuccore  395725070   \n",
       "5     NM_207618     NaN      NaN  256418990   \n",
       "\n",
       "                                            Sequence  api_returned_aa_count  \n",
       "0  >GL477576.1 Petromyzon marinus unplaced genomi...               210407.0  \n",
       "1  >CT004140.1 CT004140 RZPD no.9017 Homo sapiens...                  837.0  \n",
       "2  >BAHO01035973.1 Latimeria chalumnae DNA, conti...                15919.0  \n",
       "3  >KE993814.1 Lethenteron camtschaticum unplaced...              1564372.0  \n",
       "4  >NW_003943621.1 Saimiri boliviensis boliviensi...             30262601.0  \n",
       "5  >NM_207618.2 Mus musculus vomeronasal 1 recept...                 1157.0  "
      ]
     },
     "execution_count": 3,
     "metadata": {},
     "output_type": "execute_result"
    }
   ],
   "source": [
    "# Read protein accession numbers from proteins.txt\n",
    "infile = os.path.join(\"Output\", \"nucleotides.csv\")\n",
    "nucleotide_df = pd.read_csv(infile)\n",
    "\n",
    "# Adding one more nucleotide for testing:\n",
    "mus = \"NM_207618\"\n",
    "mus_data = api_call(\"nuccore\", mus)\n",
    "gid = mus_data[\"eSummaryResult\"][\"DocSum\"][\"Id\"]\n",
    "gid_url = \"https://eutils.ncbi.nlm.nih.gov/entrez/eutils/efetch.fcgi?db=sequences&id=\" + gid + \"&rettype=fasta&retmode=text\"\n",
    "gid_resp = requests.get(gid_url)\n",
    "seq = gid_resp.content.decode(\"utf-8\")\n",
    "seq\n",
    "nucleotide_df = nucleotide_df.append({\n",
    "    \"accession_num\" : mus,\n",
    "    \"GID\": gid,\n",
    "    \"Sequence\": seq\n",
    "}, ignore_index=True)\n",
    "\n",
    "fasta_seq = get_fasta_from_df(nucleotide_df, mus)\n",
    "seq = convert_fasta_to_str(fasta_seq)\n",
    "ret_cnt = len(seq)\n",
    "nucleotide_df.loc[5, \"api_returned_aa_count\"] = ret_cnt\n",
    "nucleotide_df"
   ]
  },
  {
   "cell_type": "code",
   "execution_count": 7,
   "metadata": {},
   "outputs": [],
   "source": [
    "# Each amino acid created from 3 nucleotides (triplet)\n",
    "# according to the mapping below\n",
    "def translate(dna_seq):\n",
    "    \"\"\"\n",
    "    Function to convert DNA nucleotide sequences into\n",
    "    amino acid protein sequences\n",
    "    \n",
    "    Parameters:\n",
    "    -----------\n",
    "    dna_seq : str\n",
    "        DNA sequence as string, e.g: TATATATATGTAAGGTT...\n",
    "    \"\"\"\n",
    "    translation_table = {\n",
    "        'ATA':'I', 'ATC':'I', 'ATT':'I', 'ATG':'M',\n",
    "        'ACA':'T', 'ACC':'T', 'ACG':'T', 'ACT':'T',\n",
    "        'AAC':'N', 'AAT':'N', 'AAA':'K', 'AAG':'K',\n",
    "        'AGC':'S', 'AGT':'S', 'AGA':'R', 'AGG':'R',                \n",
    "        'CTA':'L', 'CTC':'L', 'CTG':'L', 'CTT':'L',\n",
    "        'CCA':'P', 'CCC':'P', 'CCG':'P', 'CCT':'P',\n",
    "        'CAC':'H', 'CAT':'H', 'CAA':'Q', 'CAG':'Q',\n",
    "        'CGA':'R', 'CGC':'R', 'CGG':'R', 'CGT':'R',\n",
    "        'GTA':'V', 'GTC':'V', 'GTG':'V', 'GTT':'V',\n",
    "        'GCA':'A', 'GCC':'A', 'GCG':'A', 'GCT':'A',\n",
    "        'GAC':'D', 'GAT':'D', 'GAA':'E', 'GAG':'E',\n",
    "        'GGA':'G', 'GGC':'G', 'GGG':'G', 'GGT':'G',\n",
    "        'TCA':'S', 'TCC':'S', 'TCG':'S', 'TCT':'S',\n",
    "        'TTC':'F', 'TTT':'F', 'TTA':'L', 'TTG':'L',\n",
    "        'TAC':'Y', 'TAT':'Y', 'TAA':'_', 'TAG':'_',\n",
    "        'TGC':'C', 'TGT':'C', 'TGA':'_', 'TGG':'W',\n",
    "    }\n",
    "    aa_seq = \"\"\n",
    "    # Check DNA sequence is divisible by 3, otherwise throw an error\n",
    "    if len(dna_seq) % 3 == 0:\n",
    "        # Massage NCBI sequence to pure string of nucleotides,\n",
    "        # TATATATATGTA...\n",
    "        for i in range(0, len(dna_seq), 3):\n",
    "            codon = dna_seq[i:i + 3]\n",
    "            aa_seq += translation_table[codon]\n",
    "        return aa_seq\n",
    "    else:\n",
    "        print(\"Invalid DNA sequence, length not divisible by 3.\")"
   ]
  },
  {
   "cell_type": "code",
   "execution_count": 22,
   "metadata": {},
   "outputs": [
    {
     "data": {
      "text/plain": [
       "'MSTHDTSLKTTEEVAFQIILLCQFGVGTFANVFLFVYNFSPISTGSKQRPRQVILRHMAVANALTLFLTIFPNNMMTFAPIIPQTDLKCKLEFFTRLVARSTNLCSTCVLSIHQFVTLVPVNSGKGILRASVTNMASYSCYSCWFFSVLNNIYIPIKVTGPQLTDNNNNSKSKLFCSTSDFSVGIVFLRFAHDATFMSIMVWTSVSMVLLLHRHCQRMQYIFTLNQDPRGQAETTATHTILMLVVTFVGFYLLSLICIIFYTYFIYSHHSLRHCNDILVSGFPTISPLLLTFRDPKGPCSVFFNC_'"
      ]
     },
     "execution_count": 22,
     "metadata": {},
     "output_type": "execute_result"
    }
   ],
   "source": [
    "CDS_START = 21  # Coding region start, NB: nucleotides numbered from 1\n",
    "CDS_END = 938  # Coding region end\n",
    "translated_seq = translate(seq[CDS_START - 1: CDS_END])\n",
    "translated_seq"
   ]
  },
  {
   "cell_type": "code",
   "execution_count": 23,
   "metadata": {},
   "outputs": [
    {
     "data": {
      "text/plain": [
       "'ATGTCTACTCACGATACATCCCTGAAAACCACTGAGGAAGTGGCTTTTCAGATCATCTTGCTTTGCCAGTTTGGGGTTGGGACTTTTGCCAATGTATTTCTCTTTGTCTATAATTTCTCTCCAATCTCGACTGGTTCTAAACAGAGGCCCAGACAAGTGATTTTAAGACACATGGCTGTGGCCAATGCCTTAACTCTCTTCCTCACTATATTTCCAAACAACATGATGACTTTTGCTCCAATTATTCCTCAAACTGACCTCAAATGTAAATTAGAATTCTTCACTCGCCTCGTGGCAAGAAGCACAAACTTGTGTTCAACTTGTGTTCTGAGTATCCATCAGTTTGTCACACTTGTTCCTGTTAATTCAGGTAAAGGAATACTCAGAGCAAGTGTCACAAACATGGCAAGTTATTCTTGTTACAGTTGTTGGTTCTTCAGTGTCTTAAATAACATCTACATTCCAATTAAGGTCACTGGTCCACAGTTAACAGACAATAACAATAACTCTAAAAGCAAGTTGTTCTGTTCCACTTCTGATTTCAGTGTAGGCATTGTCTTCTTGAGGTTTGCCCATGATGCCACATTCATGAGCATCATGGTCTGGACCAGTGTCTCCATGGTACTTCTCCTCCATAGACATTGTCAGAGAATGCAGTACATATTCACTCTCAATCAGGACCCCAGGGGCCAAGCAGAGACCACAGCAACCCATACTATCCTGATGCTGGTAGTCACATTTGTTGGCTTTTATCTTCTAAGTCTTATTTGTATCATCTTTTACACCTATTTTATATATTCTCATCATTCCCTGAGGCATTGCAATGACATTTTGGTTTCGGGTTTCCCTACAATTTCTCCTTTACTGTTGACCTTCAGAGACCCTAAGGGTCCTTGTTCTGTGTTCTTCAACTGTTGA'"
      ]
     },
     "execution_count": 23,
     "metadata": {},
     "output_type": "execute_result"
    }
   ],
   "source": [
    "coding_seq = seq[CDS_START - 1: CDS_END]\n",
    "coding_seq"
   ]
  },
  {
   "cell_type": "code",
   "execution_count": 24,
   "metadata": {},
   "outputs": [
    {
     "data": {
      "text/plain": [
       "False"
      ]
     },
     "execution_count": 24,
     "metadata": {},
     "output_type": "execute_result"
    }
   ],
   "source": [
    "actual_translation = \"MSTHDTSLKTTEEVAFQIILLCQFGVGTFANVFLFVYNFSPISTGSKQRPRQVILRHMAVANALTLFLTIFPNNMMTFAPIIPQTDLKCKLEFFTRLVARSTNLCSTCVLSIHQFVTLVPVNSGKGILRASVTNMASYSCYSCWFFSVLNNIYIPIKVTGPQLTDNNNNSKSKLFCSTSDFSVGIVFLRFAHDATFMSIMVWTSVSMVLLLHRHCQRMQYIFTLNQDPRGQAETTATHTILMLVVTFVGFYLLSLICIIFYTYFIYSHHSLRHCNDILVSGFPTISPLLLTFRDPKGPCSVFFNC\"\n",
    "actual_translation == translated_seq"
   ]
  },
  {
   "cell_type": "code",
   "execution_count": 29,
   "metadata": {},
   "outputs": [
    {
     "name": "stdout",
     "output_type": "stream",
     "text": [
      "MSTHDTSLKTTEEVAFQIILLCQFGVGTFANVFLFVYNFSPISTGSKQRPRQVILRHMAVANALTLFLTIFPNNMMTFAPIIPQTDLKCKLEFFTRLVARSTNLCSTCVLSIHQFVTLVPVNSGKGILRASVTNMASYSCYSCWFFSVLNNIYIPIKVTGPQLTDNNNNSKSKLFCSTSDFSVGIVFLRFAHDATFMSIMVWTSVSMVLLLHRHCQRMQYIFTLNQDPRGQAETTATHTILMLVVTFVGFYLLSLICIIFYTYFIYSHHSLRHCNDILVSGFPTISPLLLTFRDPKGPCSVFFNC\n"
     ]
    }
   ],
   "source": [
    "print(actual_translation)"
   ]
  },
  {
   "cell_type": "code",
   "execution_count": 30,
   "metadata": {},
   "outputs": [
    {
     "name": "stdout",
     "output_type": "stream",
     "text": [
      "MSTHDTSLKTTEEVAFQIILLCQFGVGTFANVFLFVYNFSPISTGSKQRPRQVILRHMAVANALTLFLTIFPNNMMTFAPIIPQTDLKCKLEFFTRLVARSTNLCSTCVLSIHQFVTLVPVNSGKGILRASVTNMASYSCYSCWFFSVLNNIYIPIKVTGPQLTDNNNNSKSKLFCSTSDFSVGIVFLRFAHDATFMSIMVWTSVSMVLLLHRHCQRMQYIFTLNQDPRGQAETTATHTILMLVVTFVGFYLLSLICIIFYTYFIYSHHSLRHCNDILVSGFPTISPLLLTFRDPKGPCSVFFNC_\n"
     ]
    }
   ],
   "source": [
    "print(translated_seq)"
   ]
  },
  {
   "cell_type": "code",
   "execution_count": null,
   "metadata": {},
   "outputs": [],
   "source": []
  },
  {
   "cell_type": "code",
   "execution_count": null,
   "metadata": {},
   "outputs": [],
   "source": []
  }
 ],
 "metadata": {
  "kernelspec": {
   "display_name": "PythonData",
   "language": "python",
   "name": "pythondata"
  },
  "language_info": {
   "codemirror_mode": {
    "name": "ipython",
    "version": 3
   },
   "file_extension": ".py",
   "mimetype": "text/x-python",
   "name": "python",
   "nbconvert_exporter": "python",
   "pygments_lexer": "ipython3",
   "version": "3.7.6"
  }
 },
 "nbformat": 4,
 "nbformat_minor": 4
}
