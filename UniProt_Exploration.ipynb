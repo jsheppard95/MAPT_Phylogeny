{
 "cells": [
  {
   "cell_type": "code",
   "execution_count": 1,
   "metadata": {},
   "outputs": [],
   "source": [
    "# Jupyter Notebook Scratch Work for PyBLAST Protein Search\n",
    "import requests\n",
    "import json\n",
    "import xmltodict"
   ]
  },
  {
   "cell_type": "code",
   "execution_count": 2,
   "metadata": {},
   "outputs": [],
   "source": [
    "# Define Protein and XML API search\n",
    "PROTEIN = \"Q5YCV9\"  # Microtubule-associated protein tau\n",
    "PROTEIN_XML = PROTEIN + \".xml\"\n",
    "PROTEIN_JSON = PROTEIN + \".json\""
   ]
  },
  {
   "cell_type": "code",
   "execution_count": 3,
   "metadata": {},
   "outputs": [],
   "source": [
    "# Perform API Call for Protein and write data to XML file\n",
    "url = \"https://www.uniprot.org/uniprot/\" + PROTEIN_XML  # Protein Sequence = Q5YCV9\n",
    "\n",
    "resp = requests.get(url)\n",
    "\n",
    "# Save the xml file:\n",
    "with open(PROTEIN_XML, \"wb\") as f:\n",
    "    f.write(resp.content)"
   ]
  },
  {
   "cell_type": "code",
   "execution_count": 4,
   "metadata": {},
   "outputs": [],
   "source": [
    "# Read Protein XML file and convert to dictionary\n",
    "with open(PROTEIN_XML) as xml_file:\n",
    "    data_dict = xmltodict.parse(xml_file.read())"
   ]
  },
  {
   "cell_type": "code",
   "execution_count": 5,
   "metadata": {},
   "outputs": [],
   "source": [
    "# Write dictionary to json file\n",
    "json_data = json.dumps(data_dict)\n",
    "\n",
    "with open(PROTEIN_JSON, \"w\") as json_file:\n",
    "    json_file.write(json_data)"
   ]
  },
  {
   "cell_type": "code",
   "execution_count": 6,
   "metadata": {},
   "outputs": [],
   "source": [
    "# Read in JSON data into normal Python dictionary\n",
    "with open(PROTEIN_JSON, \"r\") as json_file:\n",
    "    protein_data = json.load(json_file)"
   ]
  },
  {
   "cell_type": "code",
   "execution_count": 7,
   "metadata": {},
   "outputs": [
    {
     "data": {
      "text/plain": [
       "[{'@type': 'GO',\n",
       "  '@id': 'GO:0030424',\n",
       "  'property': [{'@type': 'term', '@value': 'C:axon'},\n",
       "   {'@type': 'evidence', '@value': 'ECO:0000250'},\n",
       "   {'@type': 'project', '@value': 'UniProtKB'}]},\n",
       " {'@type': 'GO',\n",
       "  '@id': 'GO:0005737',\n",
       "  'property': [{'@type': 'term', '@value': 'C:cytoplasm'},\n",
       "   {'@type': 'evidence', '@value': 'ECO:0000250'},\n",
       "   {'@type': 'project', '@value': 'UniProtKB'}]},\n",
       " {'@type': 'GO',\n",
       "  '@id': 'GO:0005829',\n",
       "  'property': [{'@type': 'term', '@value': 'C:cytosol'},\n",
       "   {'@type': 'evidence', '@value': 'ECO:0000501'},\n",
       "   {'@type': 'project', '@value': 'UniProtKB-SubCell'}]},\n",
       " {'@type': 'GO',\n",
       "  '@id': 'GO:0030425',\n",
       "  'property': [{'@type': 'term', '@value': 'C:dendrite'},\n",
       "   {'@type': 'evidence', '@value': 'ECO:0000250'},\n",
       "   {'@type': 'project', '@value': 'UniProtKB'}]},\n",
       " {'@type': 'GO',\n",
       "  '@id': 'GO:0030426',\n",
       "  'property': [{'@type': 'term', '@value': 'C:growth cone'},\n",
       "   {'@type': 'evidence', '@value': 'ECO:0000250'},\n",
       "   {'@type': 'project', '@value': 'UniProtKB'}]},\n",
       " {'@type': 'GO',\n",
       "  '@id': 'GO:0005874',\n",
       "  'property': [{'@type': 'term', '@value': 'C:microtubule'},\n",
       "   {'@type': 'evidence', '@value': 'ECO:0000501'},\n",
       "   {'@type': 'project', '@value': 'UniProtKB-KW'}]},\n",
       " {'@type': 'GO',\n",
       "  '@id': 'GO:0005886',\n",
       "  'property': [{'@type': 'term', '@value': 'C:plasma membrane'},\n",
       "   {'@type': 'evidence', '@value': 'ECO:0000250'},\n",
       "   {'@type': 'project', '@value': 'UniProtKB'}]},\n",
       " {'@type': 'GO',\n",
       "  '@id': 'GO:0045298',\n",
       "  'property': [{'@type': 'term', '@value': 'C:tubulin complex'},\n",
       "   {'@type': 'evidence', '@value': 'ECO:0000250'},\n",
       "   {'@type': 'project', '@value': 'UniProtKB'}]},\n",
       " {'@type': 'GO',\n",
       "  '@id': 'GO:0008017',\n",
       "  'property': [{'@type': 'term', '@value': 'F:microtubule binding'},\n",
       "   {'@type': 'evidence', '@value': 'ECO:0000250'},\n",
       "   {'@type': 'project', '@value': 'UniProtKB'}]},\n",
       " {'@type': 'GO',\n",
       "  '@id': 'GO:0000226',\n",
       "  'property': [{'@type': 'term',\n",
       "    '@value': 'P:microtubule cytoskeleton organization'},\n",
       "   {'@type': 'evidence', '@value': 'ECO:0000250'},\n",
       "   {'@type': 'project', '@value': 'UniProtKB'}]},\n",
       " {'@type': 'GO',\n",
       "  '@id': 'GO:0045773',\n",
       "  'property': [{'@type': 'term',\n",
       "    '@value': 'P:positive regulation of axon extension'},\n",
       "   {'@type': 'evidence', '@value': 'ECO:0000250'},\n",
       "   {'@type': 'project', '@value': 'UniProtKB'}]},\n",
       " {'@type': 'GO',\n",
       "  '@id': 'GO:0031116',\n",
       "  'property': [{'@type': 'term',\n",
       "    '@value': 'P:positive regulation of microtubule polymerization'},\n",
       "   {'@type': 'evidence', '@value': 'ECO:0000250'},\n",
       "   {'@type': 'project', '@value': 'UniProtKB'}]}]"
      ]
     },
     "execution_count": 7,
     "metadata": {},
     "output_type": "execute_result"
    }
   ],
   "source": [
    "# Collect GO terms\n",
    "db_ref = protein_data[\"uniprot\"][\"entry\"][\"dbReference\"]\n",
    "go_terms = []\n",
    "for ref in db_ref:\n",
    "    if ref[\"@type\"] == \"GO\":\n",
    "        go_terms.append(ref)\n",
    "\n",
    "go_terms"
   ]
  },
  {
   "cell_type": "code",
   "execution_count": 8,
   "metadata": {},
   "outputs": [
    {
     "data": {
      "text/plain": [
       "'MAEPRQEFDVMEDHAGTYGLGDRKDQGGYTMLQDQEGDTDAGLKESPLQTPAEDGSEEPGSETSDAKSTPTAEDVTAPLVDEGAPXKQAAAQPHTEIPEGTTAEEAGIGDTPSLEDEAAGHVTQEPESGKVVREGFLGEPGPRSXSHQLASGMPGAPLLPEGPREATRQPSGTGPEDTEGGRHAPELLKHQLLGDLHQEGPPLKRAGGKERPGIKEEVDEDRDVDESSPQDSPPSKVSPAHDGRPPQTAAREATSIPGFPAEGAIPLPVDFLSKVSTEIPASEPDGPSAGRAEGQDAPPEFTFHVEITPNVQKEQAHSEEHLGRAAFPGAPGEGPEAQGPSLGEDTKEADLPEPSEKQPAAAPRGKPISRVPQLKARMVSKSKDGTGSDDKKAKTSTRSSAKTLKNRPCLSPKHPTPGSSDPLIQPSSPAVCPEPPSSPKYVSSVTXRTGSSGAKEMKLKGADGKTKIATPRGAAPPGQKGQANATRIPAKTPPAPKTPPSSVTKQVQRRPPPAGPKSERGEPPKSGDRSGYSSPGSPGTPGSRSRTPSLPTPPTREPKKVAVVRTPPKSPSSAKSRLQTAPVPMPDLKNVKSKIGSTENLKHQPGGGKVQIINKKLDLSNVQSKCGSKDNIKHVPGGGSVQIVYKPVDLSKVTSKCGSLGNIHHKPGGGQVEVKSEKLDFKDRVQSKIGSLDNITHVPGGGNKKIETHKLTFRENAKAKTDHGAEIVYKSPVVSGDTSPRHLSNVSSTGSIDMVDSPQLATLADEVSASLAKQGL'"
      ]
     },
     "execution_count": 8,
     "metadata": {},
     "output_type": "execute_result"
    }
   ],
   "source": [
    "# Get Protein Sequence\n",
    "seq = protein_data[\"uniprot\"][\"entry\"][\"sequence\"][\"#text\"]\n",
    "seq"
   ]
  },
  {
   "cell_type": "code",
   "execution_count": null,
   "metadata": {},
   "outputs": [],
   "source": []
  }
 ],
 "metadata": {
  "kernelspec": {
   "display_name": "PythonData",
   "language": "python",
   "name": "pythondata"
  },
  "language_info": {
   "codemirror_mode": {
    "name": "ipython",
    "version": 3
   },
   "file_extension": ".py",
   "mimetype": "text/x-python",
   "name": "python",
   "nbconvert_exporter": "python",
   "pygments_lexer": "ipython3",
   "version": "3.7.6"
  }
 },
 "nbformat": 4,
 "nbformat_minor": 4
}
