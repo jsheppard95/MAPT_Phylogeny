{
 "cells": [
  {
   "cell_type": "code",
   "execution_count": 15,
   "metadata": {},
   "outputs": [],
   "source": [
    "# Jupyter Notebook Scratch Work for NCBI Protein Search\n",
    "import requests\n",
    "import json\n",
    "import xmltodict"
   ]
  },
  {
   "cell_type": "code",
   "execution_count": 12,
   "metadata": {},
   "outputs": [
    {
     "data": {
      "text/plain": [
       "<Response [200]>"
      ]
     },
     "execution_count": 12,
     "metadata": {},
     "output_type": "execute_result"
    }
   ],
   "source": [
    "url = \"https://eutils.ncbi.nlm.nih.gov/entrez/eutils/esummary.fcgi?db=protein&id=NP_001116538\"\n",
    "resp = requests.get(url)\n",
    "resp"
   ]
  },
  {
   "cell_type": "code",
   "execution_count": 13,
   "metadata": {},
   "outputs": [
    {
     "data": {
      "text/plain": [
       "b'<?xml version=\"1.0\" encoding=\"UTF-8\" ?>\\n<!DOCTYPE eSummaryResult PUBLIC \"-//NLM//DTD esummary v1 20041029//EN\" \"https://eutils.ncbi.nlm.nih.gov/eutils/dtd/20041029/esummary-v1.dtd\">\\n<eSummaryResult>\\n<DocSum>\\n\\t<Id>294862258</Id>\\n\\t<Item Name=\"Caption\" Type=\"String\">NP_001116538</Item>\\n\\t<Item Name=\"Title\" Type=\"String\">microtubule-associated protein tau isoform 6 [Homo sapiens]</Item>\\n\\t<Item Name=\"Extra\" Type=\"String\">gi|294862258|ref|NP_001116538.2|[294862258]</Item>\\n\\t<Item Name=\"Gi\" Type=\"Integer\">294862258</Item>\\n\\t<Item Name=\"CreateDate\" Type=\"String\">2008/04/09</Item>\\n\\t<Item Name=\"UpdateDate\" Type=\"String\">2021/08/22</Item>\\n\\t<Item Name=\"Flags\" Type=\"Integer\">512</Item>\\n\\t<Item Name=\"TaxId\" Type=\"Integer\">9606</Item>\\n\\t<Item Name=\"Length\" Type=\"Integer\">776</Item>\\n\\t<Item Name=\"Status\" Type=\"String\">live</Item>\\n\\t<Item Name=\"ReplacedBy\" Type=\"String\"></Item>\\n\\t<Item Name=\"Comment\" Type=\"String\"><![CDATA[  ]]></Item>\\n\\t<Item Name=\"AccessionVersion\" Type=\"String\">NP_001116538.2</Item>\\n</DocSum>\\n\\n</eSummaryResult>\\n'"
      ]
     },
     "execution_count": 13,
     "metadata": {},
     "output_type": "execute_result"
    }
   ],
   "source": [
    "resp.content"
   ]
  },
  {
   "cell_type": "code",
   "execution_count": 14,
   "metadata": {},
   "outputs": [],
   "source": [
    "with open(\"test.xml\", \"wb\") as f:\n",
    "    f.write(resp.content)"
   ]
  },
  {
   "cell_type": "code",
   "execution_count": 17,
   "metadata": {},
   "outputs": [
    {
     "data": {
      "text/plain": [
       "OrderedDict([('eSummaryResult',\n",
       "              OrderedDict([('DocSum',\n",
       "                            OrderedDict([('Id', '294862258'),\n",
       "                                         ('Item',\n",
       "                                          [OrderedDict([('@Name', 'Caption'),\n",
       "                                                        ('@Type', 'String'),\n",
       "                                                        ('#text',\n",
       "                                                         'NP_001116538')]),\n",
       "                                           OrderedDict([('@Name', 'Title'),\n",
       "                                                        ('@Type', 'String'),\n",
       "                                                        ('#text',\n",
       "                                                         'microtubule-associated protein tau isoform 6 [Homo sapiens]')]),\n",
       "                                           OrderedDict([('@Name', 'Extra'),\n",
       "                                                        ('@Type', 'String'),\n",
       "                                                        ('#text',\n",
       "                                                         'gi|294862258|ref|NP_001116538.2|[294862258]')]),\n",
       "                                           OrderedDict([('@Name', 'Gi'),\n",
       "                                                        ('@Type', 'Integer'),\n",
       "                                                        ('#text',\n",
       "                                                         '294862258')]),\n",
       "                                           OrderedDict([('@Name',\n",
       "                                                         'CreateDate'),\n",
       "                                                        ('@Type', 'String'),\n",
       "                                                        ('#text',\n",
       "                                                         '2008/04/09')]),\n",
       "                                           OrderedDict([('@Name',\n",
       "                                                         'UpdateDate'),\n",
       "                                                        ('@Type', 'String'),\n",
       "                                                        ('#text',\n",
       "                                                         '2021/08/22')]),\n",
       "                                           OrderedDict([('@Name', 'Flags'),\n",
       "                                                        ('@Type', 'Integer'),\n",
       "                                                        ('#text', '512')]),\n",
       "                                           OrderedDict([('@Name', 'TaxId'),\n",
       "                                                        ('@Type', 'Integer'),\n",
       "                                                        ('#text', '9606')]),\n",
       "                                           OrderedDict([('@Name', 'Length'),\n",
       "                                                        ('@Type', 'Integer'),\n",
       "                                                        ('#text', '776')]),\n",
       "                                           OrderedDict([('@Name', 'Status'),\n",
       "                                                        ('@Type', 'String'),\n",
       "                                                        ('#text', 'live')]),\n",
       "                                           OrderedDict([('@Name',\n",
       "                                                         'ReplacedBy'),\n",
       "                                                        ('@Type', 'String')]),\n",
       "                                           OrderedDict([('@Name', 'Comment'),\n",
       "                                                        ('@Type', 'String')]),\n",
       "                                           OrderedDict([('@Name',\n",
       "                                                         'AccessionVersion'),\n",
       "                                                        ('@Type', 'String'),\n",
       "                                                        ('#text',\n",
       "                                                         'NP_001116538.2')])])]))]))])"
      ]
     },
     "execution_count": 17,
     "metadata": {},
     "output_type": "execute_result"
    }
   ],
   "source": [
    "with open(\"test.xml\") as f:\n",
    "    data_dict = xmltodict.parse(f.read())\n",
    "\n",
    "data_dict"
   ]
  },
  {
   "cell_type": "code",
   "execution_count": 20,
   "metadata": {},
   "outputs": [],
   "source": [
    "json_data = json.dumps(data_dict)\n",
    "\n",
    "with open(\"test.json\", \"w\") as json_file:\n",
    "    json_file.write(json_data)"
   ]
  },
  {
   "cell_type": "code",
   "execution_count": 21,
   "metadata": {},
   "outputs": [
    {
     "data": {
      "text/plain": [
       "{'eSummaryResult': {'DocSum': {'Id': '294862258',\n",
       "   'Item': [{'@Name': 'Caption', '@Type': 'String', '#text': 'NP_001116538'},\n",
       "    {'@Name': 'Title',\n",
       "     '@Type': 'String',\n",
       "     '#text': 'microtubule-associated protein tau isoform 6 [Homo sapiens]'},\n",
       "    {'@Name': 'Extra',\n",
       "     '@Type': 'String',\n",
       "     '#text': 'gi|294862258|ref|NP_001116538.2|[294862258]'},\n",
       "    {'@Name': 'Gi', '@Type': 'Integer', '#text': '294862258'},\n",
       "    {'@Name': 'CreateDate', '@Type': 'String', '#text': '2008/04/09'},\n",
       "    {'@Name': 'UpdateDate', '@Type': 'String', '#text': '2021/08/22'},\n",
       "    {'@Name': 'Flags', '@Type': 'Integer', '#text': '512'},\n",
       "    {'@Name': 'TaxId', '@Type': 'Integer', '#text': '9606'},\n",
       "    {'@Name': 'Length', '@Type': 'Integer', '#text': '776'},\n",
       "    {'@Name': 'Status', '@Type': 'String', '#text': 'live'},\n",
       "    {'@Name': 'ReplacedBy', '@Type': 'String'},\n",
       "    {'@Name': 'Comment', '@Type': 'String'},\n",
       "    {'@Name': 'AccessionVersion',\n",
       "     '@Type': 'String',\n",
       "     '#text': 'NP_001116538.2'}]}}}"
      ]
     },
     "execution_count": 21,
     "metadata": {},
     "output_type": "execute_result"
    }
   ],
   "source": [
    "with open(\"test.json\", \"r\") as json_file:\n",
    "    protein_data = json.load(json_file)\n",
    "    \n",
    "protein_data"
   ]
  },
  {
   "cell_type": "code",
   "execution_count": 22,
   "metadata": {},
   "outputs": [],
   "source": [
    "gid_url = \"https://eutils.ncbi.nlm.nih.gov/entrez/eutils/efetch.fcgi?db=sequences&id=294862258&rettype=fasta&retmode=text\"\n",
    "gid_resp = requests.get(gid_url)"
   ]
  },
  {
   "cell_type": "code",
   "execution_count": 23,
   "metadata": {},
   "outputs": [
    {
     "data": {
      "text/plain": [
       "b'>NP_001116538.2 microtubule-associated protein tau isoform 6 [Homo sapiens]\\nMAEPRQEFEVMEDHAGTYGLGDRKDQGGYTMHQDQEGDTDAGLKESPLQTPTEDGSEEPGSETSDAKSTP\\nTAEDVTAPLVDEGAPGKQAAAQPHTEIPEGTTAEEAGIGDTPSLEDEAAGHVTQEPESGKVVQEGFLREP\\nGPPGLSHQLMSGMPGAPLLPEGPREATRQPSGTGPEDTEGGRHAPELLKHQLLGDLHQEGPPLKGAGGKE\\nRPGSKEEVDEDRDVDESSPQDSPPSKASPAQDGRPPQTAAREATSIPGFPAEGAIPLPVDFLSKVSTEIP\\nASEPDGPSVGRAKGQDAPLEFTFHVEITPNVQKEQAHSEEHLGRAAFPGAPGEGPEARGPSLGEDTKEAD\\nLPEPSEKQPAAAPRGKPVSRVPQLKARMVSKSKDGTGSDDKKAKTSTRSSAKTLKNRPCLSPKHPTPGSS\\nDPLIQPSSPAVCPEPPSSPKYVSSVTSRTGSSGAKEMKLKGADGKTKIATPRGAAPPGQKGQANATRIPA\\nKTPPAPKTPPSSATKQVQRRPPPAGPRSERGEPPKSGDRSGYSSPGSPGTPGSRSRTPSLPTPPTREPKK\\nVAVVRTPPKSPSSAKSRLQTAPVPMPDLKNVKSKIGSTENLKHQPGGGKVQIINKKLDLSNVQSKCGSKD\\nNIKHVPGGGSVQIVYKPVDLSKVTSKCGSLGNIHHKPGGGQVEVKSEKLDFKDRVQSKIGSLDNITHVPG\\nGGNKKIETHKLTFRENAKAKTDHGAEIVYKSPVVSGDTSPRHLSNVSSTGSIDMVDSPQLATLADEVSAS\\nLAKQGL\\n\\n'"
      ]
     },
     "execution_count": 23,
     "metadata": {},
     "output_type": "execute_result"
    }
   ],
   "source": [
    "gid_resp.content"
   ]
  },
  {
   "cell_type": "code",
   "execution_count": 24,
   "metadata": {},
   "outputs": [
    {
     "name": "stdout",
     "output_type": "stream",
     "text": [
      ">NP_001116538.2 microtubule-associated protein tau isoform 6 [Homo sapiens]\n",
      "MAEPRQEFEVMEDHAGTYGLGDRKDQGGYTMHQDQEGDTDAGLKESPLQTPTEDGSEEPGSETSDAKSTP\n",
      "TAEDVTAPLVDEGAPGKQAAAQPHTEIPEGTTAEEAGIGDTPSLEDEAAGHVTQEPESGKVVQEGFLREP\n",
      "GPPGLSHQLMSGMPGAPLLPEGPREATRQPSGTGPEDTEGGRHAPELLKHQLLGDLHQEGPPLKGAGGKE\n",
      "RPGSKEEVDEDRDVDESSPQDSPPSKASPAQDGRPPQTAAREATSIPGFPAEGAIPLPVDFLSKVSTEIP\n",
      "ASEPDGPSVGRAKGQDAPLEFTFHVEITPNVQKEQAHSEEHLGRAAFPGAPGEGPEARGPSLGEDTKEAD\n",
      "LPEPSEKQPAAAPRGKPVSRVPQLKARMVSKSKDGTGSDDKKAKTSTRSSAKTLKNRPCLSPKHPTPGSS\n",
      "DPLIQPSSPAVCPEPPSSPKYVSSVTSRTGSSGAKEMKLKGADGKTKIATPRGAAPPGQKGQANATRIPA\n",
      "KTPPAPKTPPSSATKQVQRRPPPAGPRSERGEPPKSGDRSGYSSPGSPGTPGSRSRTPSLPTPPTREPKK\n",
      "VAVVRTPPKSPSSAKSRLQTAPVPMPDLKNVKSKIGSTENLKHQPGGGKVQIINKKLDLSNVQSKCGSKD\n",
      "NIKHVPGGGSVQIVYKPVDLSKVTSKCGSLGNIHHKPGGGQVEVKSEKLDFKDRVQSKIGSLDNITHVPG\n",
      "GGNKKIETHKLTFRENAKAKTDHGAEIVYKSPVVSGDTSPRHLSNVSSTGSIDMVDSPQLATLADEVSAS\n",
      "LAKQGL\n",
      "\n",
      "\n"
     ]
    }
   ],
   "source": [
    "print(gid_resp.content.decode(\"utf-8\"))"
   ]
  },
  {
   "cell_type": "code",
   "execution_count": null,
   "metadata": {},
   "outputs": [],
   "source": []
  }
 ],
 "metadata": {
  "kernelspec": {
   "display_name": "PythonData",
   "language": "python",
   "name": "pythondata"
  },
  "language_info": {
   "codemirror_mode": {
    "name": "ipython",
    "version": 3
   },
   "file_extension": ".py",
   "mimetype": "text/x-python",
   "name": "python",
   "nbconvert_exporter": "python",
   "pygments_lexer": "ipython3",
   "version": "3.7.6"
  }
 },
 "nbformat": 4,
 "nbformat_minor": 4
}
