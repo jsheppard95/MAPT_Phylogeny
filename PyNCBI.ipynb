{
 "cells": [
  {
   "cell_type": "code",
   "execution_count": 37,
   "metadata": {},
   "outputs": [],
   "source": [
    "# Jupyter Notebook Scratch Work for NCBI Protein Search\n",
    "import requests\n",
    "import json\n",
    "import xmltodict"
   ]
  },
  {
   "cell_type": "code",
   "execution_count": 38,
   "metadata": {},
   "outputs": [],
   "source": [
    "# Define Protein and XML API search\n",
    "PROTEIN = \"NP_001116538\"  # Microtubule-associated protein tau\n",
    "PROTEIN_XML = PROTEIN + \".xml\"\n",
    "PROTEIN_JSON = PROTEIN + \".json\""
   ]
  },
  {
   "cell_type": "code",
   "execution_count": 39,
   "metadata": {},
   "outputs": [],
   "source": [
    "# Perform API Call to NCBI for Protein and write data to XML file\n",
    "url = \"https://eutils.ncbi.nlm.nih.gov/entrez/eutils/esummary.fcgi?db=protein&id=\" + PROTEIN\n",
    "resp = requests.get(url)\n",
    "\n",
    "# Save the xml file:\n",
    "with open(PROTEIN_XML, \"wb\") as f:\n",
    "    f.write(resp.content)"
   ]
  },
  {
   "cell_type": "code",
   "execution_count": 40,
   "metadata": {},
   "outputs": [],
   "source": [
    "# Read Protein XML file and convert to dictionary\n",
    "with open(PROTEIN_XML) as xmlfile:\n",
    "    data_dict = xmltodict.parse(xmlfile.read())"
   ]
  },
  {
   "cell_type": "code",
   "execution_count": 41,
   "metadata": {},
   "outputs": [],
   "source": [
    "# Write dictionary to json file\n",
    "json_data = json.dumps(data_dict)\n",
    "\n",
    "with open(PROTEIN_JSON, \"w\") as json_file:\n",
    "    json_file.write(json_data)"
   ]
  },
  {
   "cell_type": "code",
   "execution_count": 42,
   "metadata": {},
   "outputs": [
    {
     "data": {
      "text/plain": [
       "{'eSummaryResult': {'DocSum': {'Id': '294862258',\n",
       "   'Item': [{'@Name': 'Caption', '@Type': 'String', '#text': 'NP_001116538'},\n",
       "    {'@Name': 'Title',\n",
       "     '@Type': 'String',\n",
       "     '#text': 'microtubule-associated protein tau isoform 6 [Homo sapiens]'},\n",
       "    {'@Name': 'Extra',\n",
       "     '@Type': 'String',\n",
       "     '#text': 'gi|294862258|ref|NP_001116538.2|[294862258]'},\n",
       "    {'@Name': 'Gi', '@Type': 'Integer', '#text': '294862258'},\n",
       "    {'@Name': 'CreateDate', '@Type': 'String', '#text': '2008/04/09'},\n",
       "    {'@Name': 'UpdateDate', '@Type': 'String', '#text': '2021/08/22'},\n",
       "    {'@Name': 'Flags', '@Type': 'Integer', '#text': '512'},\n",
       "    {'@Name': 'TaxId', '@Type': 'Integer', '#text': '9606'},\n",
       "    {'@Name': 'Length', '@Type': 'Integer', '#text': '776'},\n",
       "    {'@Name': 'Status', '@Type': 'String', '#text': 'live'},\n",
       "    {'@Name': 'ReplacedBy', '@Type': 'String'},\n",
       "    {'@Name': 'Comment', '@Type': 'String'},\n",
       "    {'@Name': 'AccessionVersion',\n",
       "     '@Type': 'String',\n",
       "     '#text': 'NP_001116538.2'}]}}}"
      ]
     },
     "execution_count": 42,
     "metadata": {},
     "output_type": "execute_result"
    }
   ],
   "source": [
    "# Read in JSON data into normal Python dictionary\n",
    "with open(PROTEIN_JSON, \"r\") as json_file:\n",
    "    protein_data = json.load(json_file)\n",
    "    \n",
    "protein_data"
   ]
  },
  {
   "cell_type": "code",
   "execution_count": 43,
   "metadata": {},
   "outputs": [],
   "source": [
    "# Get GID and perform second API call to obtain sequence\n",
    "gid = protein_data[\"eSummaryResult\"][\"DocSum\"][\"Id\"]\n",
    "gid_url = \"https://eutils.ncbi.nlm.nih.gov/entrez/eutils/efetch.fcgi?db=sequences&id=\" + gid + \"&rettype=fasta&retmode=text\"\n",
    "gid_resp = requests.get(gid_url)"
   ]
  },
  {
   "cell_type": "code",
   "execution_count": 44,
   "metadata": {},
   "outputs": [],
   "source": [
    "# Decode response (byte string)\n",
    "gid_resp_decode = gid_resp.content.decode(\"utf-8\")"
   ]
  },
  {
   "cell_type": "code",
   "execution_count": 45,
   "metadata": {},
   "outputs": [
    {
     "data": {
      "text/plain": [
       "'MAEPRQEFEVMEDHAGTYGLGDRKDQGGYTMHQDQEGDTDAGLKESPLQTPTEDGSEEPGSETSDAKSTPTAEDVTAPLVDEGAPGKQAAAQPHTEIPEGTTAEEAGIGDTPSLEDEAAGHVTQEPESGKVVQEGFLREPGPPGLSHQLMSGMPGAPLLPEGPREATRQPSGTGPEDTEGGRHAPELLKHQLLGDLHQEGPPLKGAGGKERPGSKEEVDEDRDVDESSPQDSPPSKASPAQDGRPPQTAAREATSIPGFPAEGAIPLPVDFLSKVSTEIPASEPDGPSVGRAKGQDAPLEFTFHVEITPNVQKEQAHSEEHLGRAAFPGAPGEGPEARGPSLGEDTKEADLPEPSEKQPAAAPRGKPVSRVPQLKARMVSKSKDGTGSDDKKAKTSTRSSAKTLKNRPCLSPKHPTPGSSDPLIQPSSPAVCPEPPSSPKYVSSVTSRTGSSGAKEMKLKGADGKTKIATPRGAAPPGQKGQANATRIPAKTPPAPKTPPSSATKQVQRRPPPAGPRSERGEPPKSGDRSGYSSPGSPGTPGSRSRTPSLPTPPTREPKKVAVVRTPPKSPSSAKSRLQTAPVPMPDLKNVKSKIGSTENLKHQPGGGKVQIINKKLDLSNVQSKCGSKDNIKHVPGGGSVQIVYKPVDLSKVTSKCGSLGNIHHKPGGGQVEVKSEKLDFKDRVQSKIGSLDNITHVPGGGNKKIETHKLTFRENAKAKTDHGAEIVYKSPVVSGDTSPRHLSNVSSTGSIDMVDSPQLATLADEVSASLAKQGL'"
      ]
     },
     "execution_count": 45,
     "metadata": {},
     "output_type": "execute_result"
    }
   ],
   "source": [
    "# Get sequence\n",
    "seq_arr = gid_resp_decode.split(\"\\n\")\n",
    "seq = \"\"\n",
    "for i in range(1, len(seq_arr)):\n",
    "    seq += seq_arr[i]\n",
    "seq"
   ]
  },
  {
   "cell_type": "code",
   "execution_count": null,
   "metadata": {},
   "outputs": [],
   "source": []
  }
 ],
 "metadata": {
  "kernelspec": {
   "display_name": "PythonData",
   "language": "python",
   "name": "pythondata"
  },
  "language_info": {
   "codemirror_mode": {
    "name": "ipython",
    "version": 3
   },
   "file_extension": ".py",
   "mimetype": "text/x-python",
   "name": "python",
   "nbconvert_exporter": "python",
   "pygments_lexer": "ipython3",
   "version": "3.7.6"
  }
 },
 "nbformat": 4,
 "nbformat_minor": 4
}
